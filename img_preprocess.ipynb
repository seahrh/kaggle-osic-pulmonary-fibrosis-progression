{
 "cells": [
  {
   "cell_type": "markdown",
   "metadata": {},
   "source": [
    "Outputs\n",
    "- DICOM files to preprocessed images\n",
    "- Image features as dataframe parquet"
   ]
  },
  {
   "cell_type": "code",
   "execution_count": 17,
   "metadata": {},
   "outputs": [],
   "source": [
    "import numpy as np\n",
    "import pandas as pd\n",
    "import os\n",
    "import pathlib\n",
    "from PIL import Image\n",
    "import pydicom as dicom\n",
    "from tqdm import tqdm\n",
    "from typing import NamedTuple, List"
   ]
  },
  {
   "cell_type": "code",
   "execution_count": 18,
   "metadata": {},
   "outputs": [
    {
     "name": "stdout",
     "output_type": "stream",
     "text": [
      "174 patients\n"
     ]
    }
   ],
   "source": [
    "input = 'input/train'\n",
    "output = 'output/processed'\n",
    "blacklist = {'ID00011637202177653955184', 'ID00052637202186188008618'}\n",
    "\n",
    "patients = {dir for dir in os.listdir(input)}\n",
    "patients = patients - blacklist\n",
    "print(f'{len(patients)} patients')"
   ]
  },
  {
   "cell_type": "code",
   "execution_count": 19,
   "metadata": {},
   "outputs": [],
   "source": [
    "def load_scan(path):\n",
    "    slices = [dicom.read_file(f'{path}/{s}') for s in os.listdir(path)]\n",
    "    #slices.sort(key = lambda x: float(x.ImagePositionPatient[2]))\n",
    "    return slices\n",
    "\n",
    "\n",
    "def to_hu(slices, padding=-2000):\n",
    "    \"\"\"Convert to Hounsfield units (HU)\"\"\"\n",
    "    frames = np.stack([s.pixel_array for s in slices])\n",
    "    # Convert to int16 (from sometimes int16), \n",
    "    # should be possible as values should always be low enough (<32k)\n",
    "    frames = frames.astype(np.int16)\n",
    "    for i in range(len(slices)):\n",
    "        f = frames[i]\n",
    "        s = slices[i]\n",
    "        if \"PixelPaddingValue\" in s:\n",
    "            padding = np.int16(s.PixelPaddingValue)\n",
    "        slope = np.float64(s.RescaleSlope)\n",
    "        intercept = np.int16(s.RescaleIntercept)\n",
    "        # Set outside-of-scan pixels to 0\n",
    "        f[f <= padding] = 0 \n",
    "        if slope != 1:\n",
    "            f = slope * f.astype(np.float64)\n",
    "            print(f'f.dtype={f.dtype}')\n",
    "            f = f.astype(np.int16)  \n",
    "        f += intercept\n",
    "    return frames.astype(np.int16)\n",
    "\n",
    "\n",
    "def window(frames, hu_min=-1000, hu_max=600):\n",
    "    rng = hu_max - hu_min\n",
    "    norm = (frames - hu_min) / rng\n",
    "    norm[norm < 0] = 0\n",
    "    norm[norm > 1] = 1\n",
    "    norm = (norm * 255).astype(np.uint8)\n",
    "    res = []\n",
    "    for f in norm:\n",
    "        channel = f.T\n",
    "        rgb = np.array([channel, channel, channel]).T\n",
    "        res.append(rgb)\n",
    "    return np.array(res, dtype=np.uint8)\n",
    "\n",
    "\n",
    "class Features(NamedTuple):\n",
    "    lung_area: int\n",
    "    tissue_area: int\n",
    "\n",
    "\n",
    "def extract(frames, slices, hu_min=-1000, hu_max=600, tissue=(100, 300), lung=(-700, -600)) -> List[Features]:\n",
    "    rng = hu_max - hu_min\n",
    "    tissue_min = int((tissue[0] - hu_min) / rng * 255)\n",
    "    tissue_max = int((tissue[1] - hu_min) / rng * 255)\n",
    "    lung_min = int((lung[0] - hu_min) / rng * 255)\n",
    "    lung_max = int((lung[1] - hu_min) / rng * 255)\n",
    "    #print(f'tissue pixel range={(tissue_min, tissue_max)}, lung pixel range={(lung_min, lung_max)}')\n",
    "    res = []\n",
    "    for i in range(len(frames)):\n",
    "        f = frames[i]\n",
    "        im = Image.fromarray(f, mode='RGB')\n",
    "        s = slices[i]\n",
    "        rows, cols = float(s.PixelSpacing[0]), float(s.PixelSpacing[1]) \n",
    "        height = int(f.shape[0] * rows)\n",
    "        width = int(f.shape[1] * cols)\n",
    "        im = im.resize((width, height))\n",
    "        a = np.asarray(im)\n",
    "        lung_area = int(np.sum(np.ma.masked_inside(a, lung_min, lung_max).mask) / 3)\n",
    "        tissue_area = int(np.sum(np.ma.masked_inside(a, tissue_min, tissue_max).mask) / 3)\n",
    "        sa = Features(lung_area=lung_area, tissue_area=tissue_area)\n",
    "        res.append(sa)\n",
    "    return res\n",
    "\n",
    "\n",
    "def resize(frames, target_size=(600, 600)):\n",
    "    res = []\n",
    "    for i in range(len(frames)):\n",
    "        f = frames[i]\n",
    "        im = Image.fromarray(f, mode='RGB')\n",
    "        im = im.resize(target_size)\n",
    "        res.append(np.asarray(im))\n",
    "    return np.array(res, dtype=np.uint8)\n",
    "\n",
    "\n",
    "def preprocess(dir):\n",
    "    slices = load_scan(dir)\n",
    "    res = to_hu(slices)\n",
    "    res = window(res)\n",
    "    sas = extract(res, slices)\n",
    "    res = resize(res)\n",
    "    return res, sas"
   ]
  },
  {
   "cell_type": "code",
   "execution_count": 20,
   "metadata": {},
   "outputs": [
    {
     "name": "stderr",
     "output_type": "stream",
     "text": [
      "100%|██████████| 174/174 [56:42<00:00, 19.56s/it] \n"
     ]
    }
   ],
   "source": [
    "rows = []\n",
    "for patient in tqdm(patients):\n",
    "    dir = f\"{output}/{patient}\"\n",
    "    pathlib.Path(dir).mkdir(parents=True, exist_ok=True)\n",
    "    try:\n",
    "        frames, features = preprocess(f\"{input}/{patient}\")\n",
    "    except Exception as ex:\n",
    "        print(f'patient={patient}, Error={ex}')\n",
    "        continue\n",
    "    for i in range(len(frames)):\n",
    "        im =  Image.fromarray(frames[i], mode='RGB')\n",
    "        filename = f\"{i + 1}.png\"\n",
    "        im.save(f\"{dir}/{filename}\")\n",
    "        row = {}\n",
    "        row['img'] = f\"{patient}/{filename}\"\n",
    "        row['lung_area'] = features[i].lung_area\n",
    "        row['tissue_area'] = features[i].tissue_area\n",
    "        rows.append(row)\n",
    "        \n"
   ]
  },
  {
   "cell_type": "code",
   "execution_count": 21,
   "metadata": {},
   "outputs": [
    {
     "name": "stdout",
     "output_type": "stream",
     "text": [
      "<class 'pandas.core.frame.DataFrame'>\n",
      "RangeIndex: 32684 entries, 0 to 32683\n",
      "Data columns (total 3 columns):\n",
      " #   Column       Non-Null Count  Dtype \n",
      "---  ------       --------------  ----- \n",
      " 0   img          32684 non-null  object\n",
      " 1   lung_area    32684 non-null  uint32\n",
      " 2   tissue_area  32684 non-null  uint32\n",
      "dtypes: object(1), uint32(2)\n",
      "memory usage: 510.8+ KB\n"
     ]
    }
   ],
   "source": [
    "df = pd.DataFrame.from_records(rows)\n",
    "df = df.astype({\n",
    "    'img': str,\n",
    "    'lung_area': np.uint32,\n",
    "    'tissue_area': np.uint32,\n",
    "})\n",
    "df.info()"
   ]
  },
  {
   "cell_type": "code",
   "execution_count": 22,
   "metadata": {},
   "outputs": [
    {
     "data": {
      "text/html": [
       "<div>\n",
       "<style scoped>\n",
       "    .dataframe tbody tr th:only-of-type {\n",
       "        vertical-align: middle;\n",
       "    }\n",
       "\n",
       "    .dataframe tbody tr th {\n",
       "        vertical-align: top;\n",
       "    }\n",
       "\n",
       "    .dataframe thead th {\n",
       "        text-align: right;\n",
       "    }\n",
       "</style>\n",
       "<table border=\"1\" class=\"dataframe\">\n",
       "  <thead>\n",
       "    <tr style=\"text-align: right;\">\n",
       "      <th></th>\n",
       "      <th>img</th>\n",
       "      <th>lung_area</th>\n",
       "      <th>tissue_area</th>\n",
       "    </tr>\n",
       "  </thead>\n",
       "  <tbody>\n",
       "    <tr>\n",
       "      <th>0</th>\n",
       "      <td>ID00401637202305320178010/1.png</td>\n",
       "      <td>258</td>\n",
       "      <td>5210</td>\n",
       "    </tr>\n",
       "    <tr>\n",
       "      <th>1</th>\n",
       "      <td>ID00401637202305320178010/2.png</td>\n",
       "      <td>1679</td>\n",
       "      <td>4349</td>\n",
       "    </tr>\n",
       "    <tr>\n",
       "      <th>2</th>\n",
       "      <td>ID00401637202305320178010/3.png</td>\n",
       "      <td>1610</td>\n",
       "      <td>4682</td>\n",
       "    </tr>\n",
       "    <tr>\n",
       "      <th>3</th>\n",
       "      <td>ID00401637202305320178010/4.png</td>\n",
       "      <td>1696</td>\n",
       "      <td>4073</td>\n",
       "    </tr>\n",
       "    <tr>\n",
       "      <th>4</th>\n",
       "      <td>ID00401637202305320178010/5.png</td>\n",
       "      <td>1916</td>\n",
       "      <td>4554</td>\n",
       "    </tr>\n",
       "  </tbody>\n",
       "</table>\n",
       "</div>"
      ],
      "text/plain": [
       "                               img  lung_area  tissue_area\n",
       "0  ID00401637202305320178010/1.png        258         5210\n",
       "1  ID00401637202305320178010/2.png       1679         4349\n",
       "2  ID00401637202305320178010/3.png       1610         4682\n",
       "3  ID00401637202305320178010/4.png       1696         4073\n",
       "4  ID00401637202305320178010/5.png       1916         4554"
      ]
     },
     "execution_count": 22,
     "metadata": {},
     "output_type": "execute_result"
    }
   ],
   "source": [
    "df.head()"
   ]
  },
  {
   "cell_type": "code",
   "execution_count": 23,
   "metadata": {},
   "outputs": [
    {
     "data": {
      "text/plain": [
       "count    32684.000000\n",
       "mean      1923.789652\n",
       "std       1239.577675\n",
       "min          0.000000\n",
       "25%        942.750000\n",
       "50%       1727.000000\n",
       "75%       2576.000000\n",
       "max       7873.000000\n",
       "Name: lung_area, dtype: float64"
      ]
     },
     "execution_count": 23,
     "metadata": {},
     "output_type": "execute_result"
    }
   ],
   "source": [
    "df['lung_area'].describe()"
   ]
  },
  {
   "cell_type": "code",
   "execution_count": 24,
   "metadata": {},
   "outputs": [
    {
     "data": {
      "text/plain": [
       "count    32684.00000\n",
       "mean      7099.51233\n",
       "std       4033.61665\n",
       "min          0.00000\n",
       "25%       3786.00000\n",
       "50%       6327.50000\n",
       "75%       9689.00000\n",
       "max      25645.00000\n",
       "Name: tissue_area, dtype: float64"
      ]
     },
     "execution_count": 24,
     "metadata": {},
     "output_type": "execute_result"
    }
   ],
   "source": [
    "df['tissue_area'].describe()"
   ]
  },
  {
   "cell_type": "code",
   "execution_count": 25,
   "metadata": {},
   "outputs": [],
   "source": [
    "df.to_parquet('output/imf.parquet', index=False)"
   ]
  }
 ],
 "metadata": {
  "kernelspec": {
   "display_name": "Python 3",
   "language": "python",
   "name": "python3"
  },
  "language_info": {
   "codemirror_mode": {
    "name": "ipython",
    "version": 3
   },
   "file_extension": ".py",
   "mimetype": "text/x-python",
   "name": "python",
   "nbconvert_exporter": "python",
   "pygments_lexer": "ipython3",
   "version": "3.7.5"
  }
 },
 "nbformat": 4,
 "nbformat_minor": 4
}
