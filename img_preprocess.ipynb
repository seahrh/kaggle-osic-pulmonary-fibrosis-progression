{
 "cells": [
  {
   "cell_type": "code",
   "execution_count": 1,
   "metadata": {},
   "outputs": [],
   "source": [
    "import numpy as np\n",
    "import os\n",
    "import pathlib\n",
    "from PIL import Image\n",
    "import pydicom as dicom\n",
    "from tqdm import tqdm"
   ]
  },
  {
   "cell_type": "code",
   "execution_count": 2,
   "metadata": {},
   "outputs": [
    {
     "name": "stdout",
     "output_type": "stream",
     "text": [
      "174 patients\n"
     ]
    }
   ],
   "source": [
    "input = 'input/train'\n",
    "output = 'output/processed'\n",
    "blacklist = {'ID00011637202177653955184', 'ID00052637202186188008618'}\n",
    "\n",
    "patients = {dir for dir in os.listdir(input)}\n",
    "patients = patients - blacklist\n",
    "print(f'{len(patients)} patients')"
   ]
  },
  {
   "cell_type": "code",
   "execution_count": 3,
   "metadata": {},
   "outputs": [],
   "source": [
    "def load_scan(path):\n",
    "    slices = [dicom.read_file(f'{path}/{s}') for s in os.listdir(path)]\n",
    "    #slices.sort(key = lambda x: float(x.ImagePositionPatient[2]))\n",
    "    return slices\n",
    "\n",
    "\n",
    "def to_hu(slices, padding=-2000):\n",
    "    \"\"\"Convert to Hounsfield units (HU)\"\"\"\n",
    "    frames = np.stack([s.pixel_array for s in slices])\n",
    "    # Convert to int16 (from sometimes int16), \n",
    "    # should be possible as values should always be low enough (<32k)\n",
    "    frames = frames.astype(np.int16)\n",
    "    for i in range(len(slices)):\n",
    "        f = frames[i]\n",
    "        s = slices[i]\n",
    "        if \"PixelPaddingValue\" in s:\n",
    "            padding = np.int16(s.PixelPaddingValue)\n",
    "        slope = np.float64(s.RescaleSlope)\n",
    "        intercept = np.int16(s.RescaleIntercept)\n",
    "        # Set outside-of-scan pixels to 0\n",
    "        f[f <= padding] = 0 \n",
    "        if slope != 1:\n",
    "            f = slope * f.astype(np.float64)\n",
    "            print(f'f.dtype={f.dtype}')\n",
    "            f = f.astype(np.int16)  \n",
    "        f += intercept\n",
    "    return frames.astype(np.int16)\n",
    "\n",
    "\n",
    "def window(frames, hu_min=-1000, hu_max=600):\n",
    "    rng = hu_max - hu_min\n",
    "    norm = (frames - hu_min) / rng\n",
    "    norm[norm < 0] = 0\n",
    "    norm[norm > 1] = 1\n",
    "    norm = (norm * 255).astype(np.uint8)\n",
    "    res = []\n",
    "    for f in norm:\n",
    "        channel = f.T\n",
    "        rgb = np.array([channel, channel, channel]).T\n",
    "        res.append(rgb)\n",
    "    return np.array(res, dtype=np.uint8)\n",
    "\n",
    "\n",
    "def resize(frames, target_size=(600, 600), slices=None):\n",
    "    res = []\n",
    "    for i in range(len(frames)):\n",
    "        f = frames[i]\n",
    "        im = Image.fromarray(f, mode='RGB')\n",
    "        if slices is not None:\n",
    "            s = slices[i]\n",
    "            rows, cols = float(s.PixelSpacing[0]), float(s.PixelSpacing[1]) \n",
    "            height = int(f.shape[0] * rows)\n",
    "            width = int(f.shape[1] * cols)\n",
    "            #print(f'original shape=({height}, {width})')\n",
    "            im = im.resize((width, height), Image.NEAREST)\n",
    "        im = im.resize(target_size, Image.NEAREST)\n",
    "        res.append(np.asarray(im))\n",
    "    return np.array(res, dtype=np.uint8)\n",
    "\n",
    "\n",
    "def preprocess(dir):\n",
    "    slices = load_scan(dir)\n",
    "    res = to_hu(slices)\n",
    "    res = window(res)\n",
    "    res = resize(res, slices=None)\n",
    "    return res"
   ]
  },
  {
   "cell_type": "code",
   "execution_count": 4,
   "metadata": {},
   "outputs": [
    {
     "name": "stderr",
     "output_type": "stream",
     "text": [
      "100%|██████████| 174/174 [44:31<00:00, 15.35s/it] \n"
     ]
    }
   ],
   "source": [
    "for patient in tqdm(patients):\n",
    "    dir = f\"{output}/{patient}\"\n",
    "    pathlib.Path(dir).mkdir(parents=True, exist_ok=True)\n",
    "    try:\n",
    "        frames = preprocess(f\"{input}/{patient}\")\n",
    "    except Exception as ex:\n",
    "        print(f'patient={patient}, Error={ex}')\n",
    "        continue\n",
    "    for i in range(len(frames)):\n",
    "        im =  Image.fromarray(frames[i], mode='RGB')\n",
    "        im.save(f\"{dir}/{i + 1}.png\")"
   ]
  }
 ],
 "metadata": {
  "kernelspec": {
   "display_name": "Python 3",
   "language": "python",
   "name": "python3"
  },
  "language_info": {
   "codemirror_mode": {
    "name": "ipython",
    "version": 3
   },
   "file_extension": ".py",
   "mimetype": "text/x-python",
   "name": "python",
   "nbconvert_exporter": "python",
   "pygments_lexer": "ipython3",
   "version": "3.7.5"
  }
 },
 "nbformat": 4,
 "nbformat_minor": 4
}
