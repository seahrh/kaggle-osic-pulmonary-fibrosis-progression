{
 "cells": [
  {
   "cell_type": "markdown",
   "metadata": {},
   "source": [
    "Outputs\n",
    "- Training set as dataframe parquet (contains image file location, ready for cvmodel inference)"
   ]
  },
  {
   "cell_type": "code",
   "execution_count": 1,
   "metadata": {},
   "outputs": [],
   "source": [
    "from collections import deque\n",
    "import matplotlib.pyplot as plt\n",
    "import os\n",
    "import numpy as np\n",
    "import pandas as pd\n",
    "import seaborn as sns\n",
    "from typing import Deque, Dict, Any, List"
   ]
  },
  {
   "cell_type": "code",
   "execution_count": 2,
   "metadata": {},
   "outputs": [],
   "source": [
    "# Characters such as empty strings '' or numpy.inf are considered NA values\n",
    "pd.set_option('use_inf_as_na', True)\n",
    "pd.set_option('display.max_columns', 999)\n",
    "pd.set_option('display.max_rows', 999)\n",
    "sns.set(style=\"whitegrid\")"
   ]
  },
  {
   "cell_type": "code",
   "execution_count": 3,
   "metadata": {},
   "outputs": [
    {
     "name": "stdout",
     "output_type": "stream",
     "text": [
      "<class 'pandas.core.frame.DataFrame'>\n",
      "RangeIndex: 1549 entries, 0 to 1548\n",
      "Data columns (total 7 columns):\n",
      " #   Column         Non-Null Count  Dtype  \n",
      "---  ------         --------------  -----  \n",
      " 0   Patient        1549 non-null   object \n",
      " 1   Weeks          1549 non-null   int64  \n",
      " 2   FVC            1549 non-null   int64  \n",
      " 3   Percent        1549 non-null   float64\n",
      " 4   Age            1549 non-null   int64  \n",
      " 5   Sex            1549 non-null   object \n",
      " 6   SmokingStatus  1549 non-null   object \n",
      "dtypes: float64(1), int64(3), object(3)\n",
      "memory usage: 84.8+ KB\n"
     ]
    }
   ],
   "source": [
    "train = pd.read_csv(f'input/train.csv')\n",
    "train.info()"
   ]
  },
  {
   "cell_type": "code",
   "execution_count": 4,
   "metadata": {},
   "outputs": [
    {
     "name": "stdout",
     "output_type": "stream",
     "text": [
      "<class 'pandas.core.frame.DataFrame'>\n",
      "MultiIndex: 1549 entries, ('ID00007637202177411956430', -4) to ('ID00426637202313170790466', 59)\n",
      "Data columns (total 7 columns):\n",
      " #   Column         Non-Null Count  Dtype  \n",
      "---  ------         --------------  -----  \n",
      " 0   Patient        1549 non-null   object \n",
      " 1   Weeks          1549 non-null   int64  \n",
      " 2   FVC            1549 non-null   int64  \n",
      " 3   Percent        1549 non-null   float64\n",
      " 4   Age            1549 non-null   int64  \n",
      " 5   Sex            1549 non-null   object \n",
      " 6   SmokingStatus  1549 non-null   object \n",
      "dtypes: float64(1), int64(3), object(3)\n",
      "memory usage: 101.6+ KB\n"
     ]
    }
   ],
   "source": [
    "original_len = len(train)\n",
    "train.set_index(['Patient', 'Weeks'], inplace=True, drop=False)\n",
    "assert original_len == len(train)\n",
    "train.info()"
   ]
  },
  {
   "cell_type": "code",
   "execution_count": 5,
   "metadata": {},
   "outputs": [
    {
     "data": {
      "text/html": [
       "<div>\n",
       "<style scoped>\n",
       "    .dataframe tbody tr th:only-of-type {\n",
       "        vertical-align: middle;\n",
       "    }\n",
       "\n",
       "    .dataframe tbody tr th {\n",
       "        vertical-align: top;\n",
       "    }\n",
       "\n",
       "    .dataframe thead th {\n",
       "        text-align: right;\n",
       "    }\n",
       "</style>\n",
       "<table border=\"1\" class=\"dataframe\">\n",
       "  <thead>\n",
       "    <tr style=\"text-align: right;\">\n",
       "      <th></th>\n",
       "      <th></th>\n",
       "      <th>Patient</th>\n",
       "      <th>Weeks</th>\n",
       "      <th>FVC</th>\n",
       "      <th>Percent</th>\n",
       "      <th>Age</th>\n",
       "      <th>Sex</th>\n",
       "      <th>SmokingStatus</th>\n",
       "    </tr>\n",
       "    <tr>\n",
       "      <th>Patient</th>\n",
       "      <th>Weeks</th>\n",
       "      <th></th>\n",
       "      <th></th>\n",
       "      <th></th>\n",
       "      <th></th>\n",
       "      <th></th>\n",
       "      <th></th>\n",
       "      <th></th>\n",
       "    </tr>\n",
       "  </thead>\n",
       "  <tbody>\n",
       "    <tr>\n",
       "      <th rowspan=\"9\" valign=\"top\">ID00007637202177411956430</th>\n",
       "      <th>-4</th>\n",
       "      <td>ID00007637202177411956430</td>\n",
       "      <td>-4</td>\n",
       "      <td>2315</td>\n",
       "      <td>58.253649</td>\n",
       "      <td>79</td>\n",
       "      <td>Male</td>\n",
       "      <td>Ex-smoker</td>\n",
       "    </tr>\n",
       "    <tr>\n",
       "      <th>5</th>\n",
       "      <td>ID00007637202177411956430</td>\n",
       "      <td>5</td>\n",
       "      <td>2214</td>\n",
       "      <td>55.712129</td>\n",
       "      <td>79</td>\n",
       "      <td>Male</td>\n",
       "      <td>Ex-smoker</td>\n",
       "    </tr>\n",
       "    <tr>\n",
       "      <th>7</th>\n",
       "      <td>ID00007637202177411956430</td>\n",
       "      <td>7</td>\n",
       "      <td>2061</td>\n",
       "      <td>51.862104</td>\n",
       "      <td>79</td>\n",
       "      <td>Male</td>\n",
       "      <td>Ex-smoker</td>\n",
       "    </tr>\n",
       "    <tr>\n",
       "      <th>9</th>\n",
       "      <td>ID00007637202177411956430</td>\n",
       "      <td>9</td>\n",
       "      <td>2144</td>\n",
       "      <td>53.950679</td>\n",
       "      <td>79</td>\n",
       "      <td>Male</td>\n",
       "      <td>Ex-smoker</td>\n",
       "    </tr>\n",
       "    <tr>\n",
       "      <th>11</th>\n",
       "      <td>ID00007637202177411956430</td>\n",
       "      <td>11</td>\n",
       "      <td>2069</td>\n",
       "      <td>52.063412</td>\n",
       "      <td>79</td>\n",
       "      <td>Male</td>\n",
       "      <td>Ex-smoker</td>\n",
       "    </tr>\n",
       "    <tr>\n",
       "      <th>17</th>\n",
       "      <td>ID00007637202177411956430</td>\n",
       "      <td>17</td>\n",
       "      <td>2101</td>\n",
       "      <td>52.868646</td>\n",
       "      <td>79</td>\n",
       "      <td>Male</td>\n",
       "      <td>Ex-smoker</td>\n",
       "    </tr>\n",
       "    <tr>\n",
       "      <th>29</th>\n",
       "      <td>ID00007637202177411956430</td>\n",
       "      <td>29</td>\n",
       "      <td>2000</td>\n",
       "      <td>50.327126</td>\n",
       "      <td>79</td>\n",
       "      <td>Male</td>\n",
       "      <td>Ex-smoker</td>\n",
       "    </tr>\n",
       "    <tr>\n",
       "      <th>41</th>\n",
       "      <td>ID00007637202177411956430</td>\n",
       "      <td>41</td>\n",
       "      <td>2064</td>\n",
       "      <td>51.937594</td>\n",
       "      <td>79</td>\n",
       "      <td>Male</td>\n",
       "      <td>Ex-smoker</td>\n",
       "    </tr>\n",
       "    <tr>\n",
       "      <th>57</th>\n",
       "      <td>ID00007637202177411956430</td>\n",
       "      <td>57</td>\n",
       "      <td>2057</td>\n",
       "      <td>51.761449</td>\n",
       "      <td>79</td>\n",
       "      <td>Male</td>\n",
       "      <td>Ex-smoker</td>\n",
       "    </tr>\n",
       "    <tr>\n",
       "      <th rowspan=\"9\" valign=\"top\">ID00009637202177434476278</th>\n",
       "      <th>8</th>\n",
       "      <td>ID00009637202177434476278</td>\n",
       "      <td>8</td>\n",
       "      <td>3660</td>\n",
       "      <td>85.282878</td>\n",
       "      <td>69</td>\n",
       "      <td>Male</td>\n",
       "      <td>Ex-smoker</td>\n",
       "    </tr>\n",
       "    <tr>\n",
       "      <th>9</th>\n",
       "      <td>ID00009637202177434476278</td>\n",
       "      <td>9</td>\n",
       "      <td>3610</td>\n",
       "      <td>84.117812</td>\n",
       "      <td>69</td>\n",
       "      <td>Male</td>\n",
       "      <td>Ex-smoker</td>\n",
       "    </tr>\n",
       "    <tr>\n",
       "      <th>11</th>\n",
       "      <td>ID00009637202177434476278</td>\n",
       "      <td>11</td>\n",
       "      <td>3895</td>\n",
       "      <td>90.758691</td>\n",
       "      <td>69</td>\n",
       "      <td>Male</td>\n",
       "      <td>Ex-smoker</td>\n",
       "    </tr>\n",
       "    <tr>\n",
       "      <th>13</th>\n",
       "      <td>ID00009637202177434476278</td>\n",
       "      <td>13</td>\n",
       "      <td>3759</td>\n",
       "      <td>87.589710</td>\n",
       "      <td>69</td>\n",
       "      <td>Male</td>\n",
       "      <td>Ex-smoker</td>\n",
       "    </tr>\n",
       "    <tr>\n",
       "      <th>15</th>\n",
       "      <td>ID00009637202177434476278</td>\n",
       "      <td>15</td>\n",
       "      <td>3639</td>\n",
       "      <td>84.793550</td>\n",
       "      <td>69</td>\n",
       "      <td>Male</td>\n",
       "      <td>Ex-smoker</td>\n",
       "    </tr>\n",
       "    <tr>\n",
       "      <th>22</th>\n",
       "      <td>ID00009637202177434476278</td>\n",
       "      <td>22</td>\n",
       "      <td>3578</td>\n",
       "      <td>83.372169</td>\n",
       "      <td>69</td>\n",
       "      <td>Male</td>\n",
       "      <td>Ex-smoker</td>\n",
       "    </tr>\n",
       "    <tr>\n",
       "      <th>33</th>\n",
       "      <td>ID00009637202177434476278</td>\n",
       "      <td>33</td>\n",
       "      <td>3625</td>\n",
       "      <td>84.467332</td>\n",
       "      <td>69</td>\n",
       "      <td>Male</td>\n",
       "      <td>Ex-smoker</td>\n",
       "    </tr>\n",
       "    <tr>\n",
       "      <th>45</th>\n",
       "      <td>ID00009637202177434476278</td>\n",
       "      <td>45</td>\n",
       "      <td>3390</td>\n",
       "      <td>78.991518</td>\n",
       "      <td>69</td>\n",
       "      <td>Male</td>\n",
       "      <td>Ex-smoker</td>\n",
       "    </tr>\n",
       "    <tr>\n",
       "      <th>60</th>\n",
       "      <td>ID00009637202177434476278</td>\n",
       "      <td>60</td>\n",
       "      <td>3214</td>\n",
       "      <td>74.890484</td>\n",
       "      <td>69</td>\n",
       "      <td>Male</td>\n",
       "      <td>Ex-smoker</td>\n",
       "    </tr>\n",
       "    <tr>\n",
       "      <th rowspan=\"2\" valign=\"top\">ID00010637202177584971671</th>\n",
       "      <th>0</th>\n",
       "      <td>ID00010637202177584971671</td>\n",
       "      <td>0</td>\n",
       "      <td>3523</td>\n",
       "      <td>94.724672</td>\n",
       "      <td>60</td>\n",
       "      <td>Male</td>\n",
       "      <td>Ex-smoker</td>\n",
       "    </tr>\n",
       "    <tr>\n",
       "      <th>1</th>\n",
       "      <td>ID00010637202177584971671</td>\n",
       "      <td>1</td>\n",
       "      <td>3373</td>\n",
       "      <td>90.691547</td>\n",
       "      <td>60</td>\n",
       "      <td>Male</td>\n",
       "      <td>Ex-smoker</td>\n",
       "    </tr>\n",
       "  </tbody>\n",
       "</table>\n",
       "</div>"
      ],
      "text/plain": [
       "                                                   Patient  Weeks   FVC  \\\n",
       "Patient                   Weeks                                           \n",
       "ID00007637202177411956430 -4     ID00007637202177411956430     -4  2315   \n",
       "                           5     ID00007637202177411956430      5  2214   \n",
       "                           7     ID00007637202177411956430      7  2061   \n",
       "                           9     ID00007637202177411956430      9  2144   \n",
       "                           11    ID00007637202177411956430     11  2069   \n",
       "                           17    ID00007637202177411956430     17  2101   \n",
       "                           29    ID00007637202177411956430     29  2000   \n",
       "                           41    ID00007637202177411956430     41  2064   \n",
       "                           57    ID00007637202177411956430     57  2057   \n",
       "ID00009637202177434476278  8     ID00009637202177434476278      8  3660   \n",
       "                           9     ID00009637202177434476278      9  3610   \n",
       "                           11    ID00009637202177434476278     11  3895   \n",
       "                           13    ID00009637202177434476278     13  3759   \n",
       "                           15    ID00009637202177434476278     15  3639   \n",
       "                           22    ID00009637202177434476278     22  3578   \n",
       "                           33    ID00009637202177434476278     33  3625   \n",
       "                           45    ID00009637202177434476278     45  3390   \n",
       "                           60    ID00009637202177434476278     60  3214   \n",
       "ID00010637202177584971671  0     ID00010637202177584971671      0  3523   \n",
       "                           1     ID00010637202177584971671      1  3373   \n",
       "\n",
       "                                   Percent  Age   Sex SmokingStatus  \n",
       "Patient                   Weeks                                      \n",
       "ID00007637202177411956430 -4     58.253649   79  Male     Ex-smoker  \n",
       "                           5     55.712129   79  Male     Ex-smoker  \n",
       "                           7     51.862104   79  Male     Ex-smoker  \n",
       "                           9     53.950679   79  Male     Ex-smoker  \n",
       "                           11    52.063412   79  Male     Ex-smoker  \n",
       "                           17    52.868646   79  Male     Ex-smoker  \n",
       "                           29    50.327126   79  Male     Ex-smoker  \n",
       "                           41    51.937594   79  Male     Ex-smoker  \n",
       "                           57    51.761449   79  Male     Ex-smoker  \n",
       "ID00009637202177434476278  8     85.282878   69  Male     Ex-smoker  \n",
       "                           9     84.117812   69  Male     Ex-smoker  \n",
       "                           11    90.758691   69  Male     Ex-smoker  \n",
       "                           13    87.589710   69  Male     Ex-smoker  \n",
       "                           15    84.793550   69  Male     Ex-smoker  \n",
       "                           22    83.372169   69  Male     Ex-smoker  \n",
       "                           33    84.467332   69  Male     Ex-smoker  \n",
       "                           45    78.991518   69  Male     Ex-smoker  \n",
       "                           60    74.890484   69  Male     Ex-smoker  \n",
       "ID00010637202177584971671  0     94.724672   60  Male     Ex-smoker  \n",
       "                           1     90.691547   60  Male     Ex-smoker  "
      ]
     },
     "execution_count": 5,
     "metadata": {},
     "output_type": "execute_result"
    }
   ],
   "source": [
    "train.head(20)"
   ]
  },
  {
   "cell_type": "code",
   "execution_count": 6,
   "metadata": {},
   "outputs": [
    {
     "name": "stdout",
     "output_type": "stream",
     "text": [
      "len(pids)=176\n"
     ]
    }
   ],
   "source": [
    "pids = train['Patient'].unique()\n",
    "print(f'len(pids)={len(pids)}')"
   ]
  },
  {
   "cell_type": "code",
   "execution_count": 7,
   "metadata": {},
   "outputs": [
    {
     "data": {
      "text/plain": [
       "<AxesSubplot:>"
      ]
     },
     "execution_count": 7,
     "metadata": {},
     "output_type": "execute_result"
    },
    {
     "data": {
      "image/png": "[encoded data removed]",
      "text/plain": [
       "<Figure size 432x288 with 1 Axes>"
      ]
     },
     "metadata": {},
     "output_type": "display_data"
    }
   ],
   "source": [
    "train['Weeks'].hist(bins=100)"
   ]
  },
  {
   "cell_type": "code",
   "execution_count": 8,
   "metadata": {},
   "outputs": [
    {
     "data": {
      "text/plain": [
       "count    1549.000000\n",
       "mean       31.861846\n",
       "std        23.247550\n",
       "min        -5.000000\n",
       "25%        12.000000\n",
       "50%        28.000000\n",
       "75%        47.000000\n",
       "max       133.000000\n",
       "Name: Weeks, dtype: float64"
      ]
     },
     "execution_count": 8,
     "metadata": {},
     "output_type": "execute_result"
    }
   ],
   "source": [
    "train['Weeks'].describe()"
   ]
  },
  {
   "cell_type": "code",
   "execution_count": 9,
   "metadata": {},
   "outputs": [
    {
     "data": {
      "text/plain": [
       "<AxesSubplot:>"
      ]
     },
     "execution_count": 9,
     "metadata": {},
     "output_type": "execute_result"
    },
    {
     "data": {
      "image/png": "[encoded data removed]",
      "text/plain": [
       "<Figure size 432x288 with 1 Axes>"
      ]
     },
     "metadata": {},
     "output_type": "display_data"
    }
   ],
   "source": [
    "train['FVC'].hist(bins=100)"
   ]
  },
  {
   "cell_type": "code",
   "execution_count": 10,
   "metadata": {},
   "outputs": [
    {
     "data": {
      "text/plain": [
       "count    1549.000000\n",
       "mean     2690.479019\n",
       "std       832.770959\n",
       "min       827.000000\n",
       "25%      2109.000000\n",
       "50%      2641.000000\n",
       "75%      3171.000000\n",
       "max      6399.000000\n",
       "Name: FVC, dtype: float64"
      ]
     },
     "execution_count": 10,
     "metadata": {},
     "output_type": "execute_result"
    }
   ],
   "source": [
    "train['FVC'].describe()"
   ]
  },
  {
   "cell_type": "code",
   "execution_count": 11,
   "metadata": {},
   "outputs": [],
   "source": [
    "blacklist = {'ID00011637202177653955184', 'ID00052637202186188008618'}\n",
    "train = train.query('Patient not in @blacklist')\n",
    "assert len(train.Patient.unique()) == 174"
   ]
  },
  {
   "cell_type": "markdown",
   "metadata": {},
   "source": [
    "# Get last three FVC readings per patient\n",
    "\n",
    "Add the features extracted from images e.g. lung area, tissue area"
   ]
  },
  {
   "cell_type": "code",
   "execution_count": 12,
   "metadata": {},
   "outputs": [
    {
     "name": "stdout",
     "output_type": "stream",
     "text": [
      "<class 'pandas.core.frame.DataFrame'>\n",
      "RangeIndex: 32684 entries, 0 to 32683\n",
      "Data columns (total 3 columns):\n",
      " #   Column       Non-Null Count  Dtype \n",
      "---  ------       --------------  ----- \n",
      " 0   img          32684 non-null  object\n",
      " 1   lung_area    32684 non-null  int64 \n",
      " 2   tissue_area  32684 non-null  int64 \n",
      "dtypes: int64(2), object(1)\n",
      "memory usage: 766.2+ KB\n"
     ]
    }
   ],
   "source": [
    "imf = pd.read_parquet(f'input/processed/imf.parquet')\n",
    "imf.info()"
   ]
  },
  {
   "cell_type": "code",
   "execution_count": 13,
   "metadata": {},
   "outputs": [
    {
     "name": "stdout",
     "output_type": "stream",
     "text": [
      "<class 'pandas.core.frame.DataFrame'>\n",
      "Index: 32684 entries, ID00007637202177411956430/1.png to ID00426637202313170790466/99.png\n",
      "Data columns (total 17 columns):\n",
      " #   Column             Non-Null Count  Dtype  \n",
      "---  ------             --------------  -----  \n",
      " 0   pid                32684 non-null  object \n",
      " 1   age                32684 non-null  uint8  \n",
      " 2   sex                32684 non-null  object \n",
      " 3   smoking            32684 non-null  object \n",
      " 4   week_1             32684 non-null  int16  \n",
      " 5   fvc_1              32684 non-null  uint16 \n",
      " 6   percent_1          32684 non-null  float32\n",
      " 7   fvc_last_1         32684 non-null  uint16 \n",
      " 8   fvc_last_2         32684 non-null  uint16 \n",
      " 9   fvc_last_3         32684 non-null  uint16 \n",
      " 10  week_last_1        32684 non-null  int16  \n",
      " 11  week_last_2        32684 non-null  int16  \n",
      " 12  week_last_3        32684 non-null  int16  \n",
      " 13  img                32684 non-null  object \n",
      " 14  lung_area          32684 non-null  uint32 \n",
      " 15  tissue_area        32684 non-null  uint32 \n",
      " 16  lung_tissue_ratio  32683 non-null  float32\n",
      "dtypes: float32(2), int16(4), object(4), uint16(4), uint32(2), uint8(1)\n",
      "memory usage: 2.3+ MB\n"
     ]
    }
   ],
   "source": [
    "def explode(row: Dict[str, Any]) -> List[Dict[str, Any]]:\n",
    "    res: List[Dict[str, Any]] = []\n",
    "    pid = row['pid']\n",
    "    path = f'input/processed/{pid}'\n",
    "    for filename in os.listdir(path):\n",
    "        r = dict(row)\n",
    "        r['img'] = f'{pid}/{filename}'\n",
    "        res.append(r)\n",
    "    return res\n",
    "\n",
    "\n",
    "def set_last_visits(\n",
    "    row: Dict[str, Any], \n",
    "    last_weeks: Deque[int],\n",
    "    last_fvc: Deque[float]\n",
    ") -> None:\n",
    "    if len(last_fvc) == 0:\n",
    "        raise ValueError('there should be at least one fvc reading per patient')\n",
    "    elif len(last_fvc) == 1:\n",
    "        last_fvc.append(last_fvc[0])\n",
    "        last_fvc.append(last_fvc[0])\n",
    "    elif len(last_fvc) == 2:\n",
    "        last_fvc.append(last_fvc[1])\n",
    "    elif len(last_fvc) > 3:\n",
    "        raise ValueError('get last 3 fvc readings per patient')\n",
    "    if len(last_weeks) == 0:\n",
    "        raise ValueError('there should be at least one week number per patient')\n",
    "    elif len(last_weeks) == 1:\n",
    "        last_weeks.append(last_weeks[0])\n",
    "        last_weeks.append(last_weeks[0])\n",
    "    elif len(last_weeks) == 2:\n",
    "        last_weeks.append(last_weeks[1])\n",
    "    elif len(last_weeks) > 3:\n",
    "        raise ValueError('get last 3 fvc readings per patient')\n",
    "    row['fvc_last_1'] = last_fvc[2]\n",
    "    row['fvc_last_2'] = last_fvc[1]\n",
    "    row['fvc_last_3'] = last_fvc[0]\n",
    "    row['week_last_1'] = last_weeks[2]\n",
    "    row['week_last_2'] = last_weeks[1]\n",
    "    row['week_last_3'] = last_weeks[0]\n",
    "\n",
    "\n",
    "\n",
    "\n",
    "rows = []\n",
    "row: Dict[str, Any] = {}\n",
    "prev = None\n",
    "last_weeks: Deque[int] = deque()\n",
    "last_fvc: Deque[float] = deque()\n",
    "for t in train.itertuples():\n",
    "    # new patient\n",
    "    if prev is not None and prev != t.Patient:\n",
    "        set_last_visits(row, last_weeks, last_fvc)\n",
    "        rows += explode(row)\n",
    "    if prev is None or prev != t.Patient:\n",
    "        row = {}\n",
    "        last_weeks = deque()\n",
    "        last_fvc = deque()\n",
    "        row['pid'] = t.Patient\n",
    "        row['age'] = t.Age\n",
    "        row['sex'] = t.Sex\n",
    "        row['smoking'] = t.SmokingStatus\n",
    "        row['week_1'] = t.Weeks\n",
    "        row['fvc_1'] = t.FVC\n",
    "        row['percent_1'] = t.Percent\n",
    "    prev = t.Patient\n",
    "    last_weeks.append(t.Weeks)\n",
    "    if len(last_weeks) == 4:\n",
    "        last_weeks.popleft()\n",
    "    last_fvc.append(t.FVC)\n",
    "    if len(last_fvc) == 4:\n",
    "        last_fvc.popleft()\n",
    "    \n",
    "\n",
    "# add the last patient!\n",
    "if len(row) != 0:\n",
    "    set_last_visits(row, last_weeks, last_fvc)\n",
    "    rows += explode(row)\n",
    "\n",
    "    \n",
    "\n",
    "train = pd.DataFrame.from_records(rows)\n",
    "assert len(train) == len(imf)\n",
    "train.set_index(['img'], drop=False, inplace=True)\n",
    "train.sort_index(inplace=True)\n",
    "imf.set_index(['img'], drop=False, inplace=True)\n",
    "imf.sort_index(inplace=True)\n",
    "assert train.iloc[0]['img'] == imf.iloc[0]['img'] \n",
    "train['lung_area'] = imf['lung_area']\n",
    "train['tissue_area'] = imf['tissue_area']\n",
    "train['lung_tissue_ratio'] = train['lung_area'] / train['tissue_area']\n",
    "train = train.astype({\n",
    "    'pid': str,\n",
    "    'img': str,\n",
    "    'age': np.uint8,\n",
    "    'sex': str,\n",
    "    'smoking': str,\n",
    "    'week_1': np.int16,\n",
    "    'fvc_1': np.uint16,\n",
    "    'percent_1': np.float32,\n",
    "    'fvc_last_1': np.uint16,\n",
    "    'fvc_last_2': np.uint16,\n",
    "    'fvc_last_3': np.uint16,\n",
    "    'week_last_1': np.int16,\n",
    "    'week_last_2': np.int16,\n",
    "    'week_last_3': np.int16,\n",
    "    'lung_area': np.uint32,\n",
    "    'tissue_area': np.uint32,\n",
    "    'lung_tissue_ratio': np.float32\n",
    "})\n",
    "train.info()"
   ]
  },
  {
   "cell_type": "code",
   "execution_count": 14,
   "metadata": {},
   "outputs": [
    {
     "data": {
      "text/html": [
       "<div>\n",
       "<style scoped>\n",
       "    .dataframe tbody tr th:only-of-type {\n",
       "        vertical-align: middle;\n",
       "    }\n",
       "\n",
       "    .dataframe tbody tr th {\n",
       "        vertical-align: top;\n",
       "    }\n",
       "\n",
       "    .dataframe thead th {\n",
       "        text-align: right;\n",
       "    }\n",
       "</style>\n",
       "<table border=\"1\" class=\"dataframe\">\n",
       "  <thead>\n",
       "    <tr style=\"text-align: right;\">\n",
       "      <th></th>\n",
       "      <th>pid</th>\n",
       "      <th>age</th>\n",
       "      <th>sex</th>\n",
       "      <th>smoking</th>\n",
       "      <th>week_1</th>\n",
       "      <th>fvc_1</th>\n",
       "      <th>percent_1</th>\n",
       "      <th>fvc_last_1</th>\n",
       "      <th>fvc_last_2</th>\n",
       "      <th>fvc_last_3</th>\n",
       "      <th>week_last_1</th>\n",
       "      <th>week_last_2</th>\n",
       "      <th>week_last_3</th>\n",
       "      <th>img</th>\n",
       "      <th>lung_area</th>\n",
       "      <th>tissue_area</th>\n",
       "      <th>lung_tissue_ratio</th>\n",
       "    </tr>\n",
       "    <tr>\n",
       "      <th>img</th>\n",
       "      <th></th>\n",
       "      <th></th>\n",
       "      <th></th>\n",
       "      <th></th>\n",
       "      <th></th>\n",
       "      <th></th>\n",
       "      <th></th>\n",
       "      <th></th>\n",
       "      <th></th>\n",
       "      <th></th>\n",
       "      <th></th>\n",
       "      <th></th>\n",
       "      <th></th>\n",
       "      <th></th>\n",
       "      <th></th>\n",
       "      <th></th>\n",
       "      <th></th>\n",
       "    </tr>\n",
       "  </thead>\n",
       "  <tbody>\n",
       "    <tr>\n",
       "      <th>ID00007637202177411956430/1.png</th>\n",
       "      <td>ID00007637202177411956430</td>\n",
       "      <td>79</td>\n",
       "      <td>Male</td>\n",
       "      <td>Ex-smoker</td>\n",
       "      <td>-4</td>\n",
       "      <td>2315</td>\n",
       "      <td>58.253647</td>\n",
       "      <td>2057</td>\n",
       "      <td>2064</td>\n",
       "      <td>2000</td>\n",
       "      <td>57</td>\n",
       "      <td>41</td>\n",
       "      <td>29</td>\n",
       "      <td>ID00007637202177411956430/1.png</td>\n",
       "      <td>1149</td>\n",
       "      <td>6314</td>\n",
       "      <td>0.181977</td>\n",
       "    </tr>\n",
       "    <tr>\n",
       "      <th>ID00007637202177411956430/10.png</th>\n",
       "      <td>ID00007637202177411956430</td>\n",
       "      <td>79</td>\n",
       "      <td>Male</td>\n",
       "      <td>Ex-smoker</td>\n",
       "      <td>-4</td>\n",
       "      <td>2315</td>\n",
       "      <td>58.253647</td>\n",
       "      <td>2057</td>\n",
       "      <td>2064</td>\n",
       "      <td>2000</td>\n",
       "      <td>57</td>\n",
       "      <td>41</td>\n",
       "      <td>29</td>\n",
       "      <td>ID00007637202177411956430/10.png</td>\n",
       "      <td>2691</td>\n",
       "      <td>6016</td>\n",
       "      <td>0.447307</td>\n",
       "    </tr>\n",
       "    <tr>\n",
       "      <th>ID00007637202177411956430/11.png</th>\n",
       "      <td>ID00007637202177411956430</td>\n",
       "      <td>79</td>\n",
       "      <td>Male</td>\n",
       "      <td>Ex-smoker</td>\n",
       "      <td>-4</td>\n",
       "      <td>2315</td>\n",
       "      <td>58.253647</td>\n",
       "      <td>2057</td>\n",
       "      <td>2064</td>\n",
       "      <td>2000</td>\n",
       "      <td>57</td>\n",
       "      <td>41</td>\n",
       "      <td>29</td>\n",
       "      <td>ID00007637202177411956430/11.png</td>\n",
       "      <td>2502</td>\n",
       "      <td>5735</td>\n",
       "      <td>0.436269</td>\n",
       "    </tr>\n",
       "    <tr>\n",
       "      <th>ID00007637202177411956430/12.png</th>\n",
       "      <td>ID00007637202177411956430</td>\n",
       "      <td>79</td>\n",
       "      <td>Male</td>\n",
       "      <td>Ex-smoker</td>\n",
       "      <td>-4</td>\n",
       "      <td>2315</td>\n",
       "      <td>58.253647</td>\n",
       "      <td>2057</td>\n",
       "      <td>2064</td>\n",
       "      <td>2000</td>\n",
       "      <td>57</td>\n",
       "      <td>41</td>\n",
       "      <td>29</td>\n",
       "      <td>ID00007637202177411956430/12.png</td>\n",
       "      <td>1102</td>\n",
       "      <td>8082</td>\n",
       "      <td>0.136352</td>\n",
       "    </tr>\n",
       "    <tr>\n",
       "      <th>ID00007637202177411956430/13.png</th>\n",
       "      <td>ID00007637202177411956430</td>\n",
       "      <td>79</td>\n",
       "      <td>Male</td>\n",
       "      <td>Ex-smoker</td>\n",
       "      <td>-4</td>\n",
       "      <td>2315</td>\n",
       "      <td>58.253647</td>\n",
       "      <td>2057</td>\n",
       "      <td>2064</td>\n",
       "      <td>2000</td>\n",
       "      <td>57</td>\n",
       "      <td>41</td>\n",
       "      <td>29</td>\n",
       "      <td>ID00007637202177411956430/13.png</td>\n",
       "      <td>2413</td>\n",
       "      <td>5101</td>\n",
       "      <td>0.473045</td>\n",
       "    </tr>\n",
       "  </tbody>\n",
       "</table>\n",
       "</div>"
      ],
      "text/plain": [
       "                                                        pid  age   sex  \\\n",
       "img                                                                      \n",
       "ID00007637202177411956430/1.png   ID00007637202177411956430   79  Male   \n",
       "ID00007637202177411956430/10.png  ID00007637202177411956430   79  Male   \n",
       "ID00007637202177411956430/11.png  ID00007637202177411956430   79  Male   \n",
       "ID00007637202177411956430/12.png  ID00007637202177411956430   79  Male   \n",
       "ID00007637202177411956430/13.png  ID00007637202177411956430   79  Male   \n",
       "\n",
       "                                    smoking  week_1  fvc_1  percent_1  \\\n",
       "img                                                                     \n",
       "ID00007637202177411956430/1.png   Ex-smoker      -4   2315  58.253647   \n",
       "ID00007637202177411956430/10.png  Ex-smoker      -4   2315  58.253647   \n",
       "ID00007637202177411956430/11.png  Ex-smoker      -4   2315  58.253647   \n",
       "ID00007637202177411956430/12.png  Ex-smoker      -4   2315  58.253647   \n",
       "ID00007637202177411956430/13.png  Ex-smoker      -4   2315  58.253647   \n",
       "\n",
       "                                  fvc_last_1  fvc_last_2  fvc_last_3  \\\n",
       "img                                                                    \n",
       "ID00007637202177411956430/1.png         2057        2064        2000   \n",
       "ID00007637202177411956430/10.png        2057        2064        2000   \n",
       "ID00007637202177411956430/11.png        2057        2064        2000   \n",
       "ID00007637202177411956430/12.png        2057        2064        2000   \n",
       "ID00007637202177411956430/13.png        2057        2064        2000   \n",
       "\n",
       "                                  week_last_1  week_last_2  week_last_3  \\\n",
       "img                                                                       \n",
       "ID00007637202177411956430/1.png            57           41           29   \n",
       "ID00007637202177411956430/10.png           57           41           29   \n",
       "ID00007637202177411956430/11.png           57           41           29   \n",
       "ID00007637202177411956430/12.png           57           41           29   \n",
       "ID00007637202177411956430/13.png           57           41           29   \n",
       "\n",
       "                                                               img  lung_area  \\\n",
       "img                                                                             \n",
       "ID00007637202177411956430/1.png    ID00007637202177411956430/1.png       1149   \n",
       "ID00007637202177411956430/10.png  ID00007637202177411956430/10.png       2691   \n",
       "ID00007637202177411956430/11.png  ID00007637202177411956430/11.png       2502   \n",
       "ID00007637202177411956430/12.png  ID00007637202177411956430/12.png       1102   \n",
       "ID00007637202177411956430/13.png  ID00007637202177411956430/13.png       2413   \n",
       "\n",
       "                                  tissue_area  lung_tissue_ratio  \n",
       "img                                                               \n",
       "ID00007637202177411956430/1.png          6314           0.181977  \n",
       "ID00007637202177411956430/10.png         6016           0.447307  \n",
       "ID00007637202177411956430/11.png         5735           0.436269  \n",
       "ID00007637202177411956430/12.png         8082           0.136352  \n",
       "ID00007637202177411956430/13.png         5101           0.473045  "
      ]
     },
     "execution_count": 14,
     "metadata": {},
     "output_type": "execute_result"
    }
   ],
   "source": [
    "train.head()"
   ]
  },
  {
   "cell_type": "code",
   "execution_count": 15,
   "metadata": {},
   "outputs": [
    {
     "data": {
      "text/plain": [
       "count    32684.000000\n",
       "mean      1923.789652\n",
       "std       1239.577675\n",
       "min          0.000000\n",
       "25%        942.750000\n",
       "50%       1727.000000\n",
       "75%       2576.000000\n",
       "max       7873.000000\n",
       "Name: lung_area, dtype: float64"
      ]
     },
     "execution_count": 15,
     "metadata": {},
     "output_type": "execute_result"
    }
   ],
   "source": [
    "train['lung_area'].describe()"
   ]
  },
  {
   "cell_type": "code",
   "execution_count": 16,
   "metadata": {},
   "outputs": [
    {
     "data": {
      "text/plain": [
       "count    32684.00000\n",
       "mean      7099.51233\n",
       "std       4033.61665\n",
       "min          0.00000\n",
       "25%       3786.00000\n",
       "50%       6327.50000\n",
       "75%       9689.00000\n",
       "max      25645.00000\n",
       "Name: tissue_area, dtype: float64"
      ]
     },
     "execution_count": 16,
     "metadata": {},
     "output_type": "execute_result"
    }
   ],
   "source": [
    "train['tissue_area'].describe()"
   ]
  },
  {
   "cell_type": "code",
   "execution_count": 17,
   "metadata": {},
   "outputs": [
    {
     "data": {
      "text/plain": [
       "count    32683.000000\n",
       "mean         1.526937\n",
       "std          8.181928\n",
       "min          0.012104\n",
       "25%          0.122620\n",
       "50%          0.280338\n",
       "75%          0.524516\n",
       "max        125.057144\n",
       "Name: lung_tissue_ratio, dtype: float64"
      ]
     },
     "execution_count": 17,
     "metadata": {},
     "output_type": "execute_result"
    }
   ],
   "source": [
    "train['lung_tissue_ratio'].describe()"
   ]
  },
  {
   "cell_type": "code",
   "execution_count": 28,
   "metadata": {},
   "outputs": [],
   "source": [
    "groups = train.groupby(['pid']).min()"
   ]
  },
  {
   "cell_type": "code",
   "execution_count": 29,
   "metadata": {},
   "outputs": [
    {
     "data": {
      "text/plain": [
       "count    174.000000\n",
       "mean      14.218391\n",
       "std       15.162263\n",
       "min       -5.000000\n",
       "25%        3.000000\n",
       "50%        9.000000\n",
       "75%       21.750000\n",
       "max       79.000000\n",
       "Name: week_1, dtype: float64"
      ]
     },
     "execution_count": 29,
     "metadata": {},
     "output_type": "execute_result"
    }
   ],
   "source": [
    "groups['week_1'].describe()"
   ]
  },
  {
   "cell_type": "code",
   "execution_count": 30,
   "metadata": {},
   "outputs": [
    {
     "data": {
      "text/plain": [
       "count    174.000000\n",
       "mean      39.862069\n",
       "std       16.853104\n",
       "min        8.000000\n",
       "25%       29.000000\n",
       "50%       34.000000\n",
       "75%       49.000000\n",
       "max      104.000000\n",
       "Name: week_last_3, dtype: float64"
      ]
     },
     "execution_count": 30,
     "metadata": {},
     "output_type": "execute_result"
    }
   ],
   "source": [
    "groups['week_last_3'].describe()"
   ]
  },
  {
   "cell_type": "code",
   "execution_count": 31,
   "metadata": {},
   "outputs": [
    {
     "data": {
      "text/plain": [
       "count    174.000000\n",
       "mean      51.902299\n",
       "std       17.602768\n",
       "min       10.000000\n",
       "25%       41.000000\n",
       "50%       46.500000\n",
       "75%       61.750000\n",
       "max      117.000000\n",
       "Name: week_last_2, dtype: float64"
      ]
     },
     "execution_count": 31,
     "metadata": {},
     "output_type": "execute_result"
    }
   ],
   "source": [
    "groups['week_last_2'].describe()"
   ]
  },
  {
   "cell_type": "code",
   "execution_count": 32,
   "metadata": {},
   "outputs": [
    {
     "data": {
      "text/plain": [
       "count    174.000000\n",
       "mean      66.816092\n",
       "std       17.240246\n",
       "min       29.000000\n",
       "25%       57.000000\n",
       "50%       62.000000\n",
       "75%       75.750000\n",
       "max      133.000000\n",
       "Name: week_last_1, dtype: float64"
      ]
     },
     "execution_count": 32,
     "metadata": {},
     "output_type": "execute_result"
    }
   ],
   "source": [
    "groups['week_last_1'].describe()"
   ]
  },
  {
   "cell_type": "code",
   "execution_count": 33,
   "metadata": {},
   "outputs": [
    {
     "data": {
      "text/plain": [
       "count     174.000000\n",
       "mean     2770.183908\n",
       "std       839.056607\n",
       "min      1015.000000\n",
       "25%      2225.000000\n",
       "50%      2665.000000\n",
       "75%      3238.500000\n",
       "max      6399.000000\n",
       "Name: fvc_1, dtype: float64"
      ]
     },
     "execution_count": 33,
     "metadata": {},
     "output_type": "execute_result"
    }
   ],
   "source": [
    "groups['fvc_1'].describe()"
   ]
  },
  {
   "cell_type": "code",
   "execution_count": 34,
   "metadata": {},
   "outputs": [
    {
     "data": {
      "text/plain": [
       "count     174.000000\n",
       "mean     2530.166667\n",
       "std       833.305009\n",
       "min       828.000000\n",
       "25%      1905.250000\n",
       "50%      2471.500000\n",
       "75%      2970.250000\n",
       "max      5768.000000\n",
       "Name: fvc_last_1, dtype: float64"
      ]
     },
     "execution_count": 34,
     "metadata": {},
     "output_type": "execute_result"
    }
   ],
   "source": [
    "groups['fvc_last_1'].describe()"
   ]
  },
  {
   "cell_type": "code",
   "execution_count": 35,
   "metadata": {},
   "outputs": [
    {
     "data": {
      "text/plain": [
       "count     174.000000\n",
       "mean     2585.729885\n",
       "std       847.379089\n",
       "min       827.000000\n",
       "25%      2032.250000\n",
       "50%      2504.500000\n",
       "75%      2990.500000\n",
       "max      5895.000000\n",
       "Name: fvc_last_2, dtype: float64"
      ]
     },
     "execution_count": 35,
     "metadata": {},
     "output_type": "execute_result"
    }
   ],
   "source": [
    "groups['fvc_last_2'].describe()"
   ]
  },
  {
   "cell_type": "code",
   "execution_count": 36,
   "metadata": {},
   "outputs": [
    {
     "data": {
      "text/plain": [
       "count     174.000000\n",
       "mean     2648.482759\n",
       "std       829.199389\n",
       "min       974.000000\n",
       "25%      2079.250000\n",
       "50%      2576.000000\n",
       "75%      3060.750000\n",
       "max      5613.000000\n",
       "Name: fvc_last_3, dtype: float64"
      ]
     },
     "execution_count": 36,
     "metadata": {},
     "output_type": "execute_result"
    }
   ],
   "source": [
    "groups['fvc_last_3'].describe()"
   ]
  },
  {
   "cell_type": "code",
   "execution_count": 37,
   "metadata": {},
   "outputs": [],
   "source": [
    "train.to_parquet('output/train.parquet', index=False)"
   ]
  }
 ],
 "metadata": {
  "kernelspec": {
   "display_name": "Python 3",
   "language": "python",
   "name": "python3"
  },
  "language_info": {
   "codemirror_mode": {
    "name": "ipython",
    "version": 3
   },
   "file_extension": ".py",
   "mimetype": "text/x-python",
   "name": "python",
   "nbconvert_exporter": "python",
   "pygments_lexer": "ipython3",
   "version": "3.7.5"
  }
 },
 "nbformat": 4,
 "nbformat_minor": 4
}
