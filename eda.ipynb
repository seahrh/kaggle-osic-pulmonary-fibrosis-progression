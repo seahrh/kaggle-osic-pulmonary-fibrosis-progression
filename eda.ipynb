{
 "cells": [
  {
   "cell_type": "code",
   "execution_count": 2,
   "metadata": {},
   "outputs": [],
   "source": [
    "from collections import deque\n",
    "import matplotlib.pyplot as plt\n",
    "import pandas as pd\n",
    "import seaborn as sns\n",
    "from typing import Deque"
   ]
  },
  {
   "cell_type": "code",
   "execution_count": 3,
   "metadata": {},
   "outputs": [],
   "source": [
    "# Characters such as empty strings '' or numpy.inf are considered NA values\n",
    "pd.set_option('use_inf_as_na', True)\n",
    "pd.set_option('display.max_columns', 999)\n",
    "pd.set_option('display.max_rows', 999)\n",
    "sns.set(style=\"whitegrid\")"
   ]
  },
  {
   "cell_type": "code",
   "execution_count": 4,
   "metadata": {},
   "outputs": [
    {
     "name": "stdout",
     "output_type": "stream",
     "text": [
      "<class 'pandas.core.frame.DataFrame'>\n",
      "RangeIndex: 1549 entries, 0 to 1548\n",
      "Data columns (total 7 columns):\n",
      " #   Column         Non-Null Count  Dtype  \n",
      "---  ------         --------------  -----  \n",
      " 0   Patient        1549 non-null   object \n",
      " 1   Weeks          1549 non-null   int64  \n",
      " 2   FVC            1549 non-null   int64  \n",
      " 3   Percent        1549 non-null   float64\n",
      " 4   Age            1549 non-null   int64  \n",
      " 5   Sex            1549 non-null   object \n",
      " 6   SmokingStatus  1549 non-null   object \n",
      "dtypes: float64(1), int64(3), object(3)\n",
      "memory usage: 84.8+ KB\n"
     ]
    }
   ],
   "source": [
    "train = pd.read_csv(f'input/train.csv')\n",
    "train.info()"
   ]
  },
  {
   "cell_type": "code",
   "execution_count": 5,
   "metadata": {},
   "outputs": [
    {
     "name": "stdout",
     "output_type": "stream",
     "text": [
      "<class 'pandas.core.frame.DataFrame'>\n",
      "MultiIndex: 1549 entries, ('ID00007637202177411956430', -4) to ('ID00426637202313170790466', 59)\n",
      "Data columns (total 7 columns):\n",
      " #   Column         Non-Null Count  Dtype  \n",
      "---  ------         --------------  -----  \n",
      " 0   Patient        1549 non-null   object \n",
      " 1   Weeks          1549 non-null   int64  \n",
      " 2   FVC            1549 non-null   int64  \n",
      " 3   Percent        1549 non-null   float64\n",
      " 4   Age            1549 non-null   int64  \n",
      " 5   Sex            1549 non-null   object \n",
      " 6   SmokingStatus  1549 non-null   object \n",
      "dtypes: float64(1), int64(3), object(3)\n",
      "memory usage: 101.6+ KB\n"
     ]
    }
   ],
   "source": [
    "original_len = len(train)\n",
    "train.set_index(['Patient', 'Weeks'], inplace=True, drop=False)\n",
    "assert original_len == len(train)\n",
    "train.info()"
   ]
  },
  {
   "cell_type": "code",
   "execution_count": 6,
   "metadata": {},
   "outputs": [
    {
     "data": {
      "text/html": [
       "<div>\n",
       "<style scoped>\n",
       "    .dataframe tbody tr th:only-of-type {\n",
       "        vertical-align: middle;\n",
       "    }\n",
       "\n",
       "    .dataframe tbody tr th {\n",
       "        vertical-align: top;\n",
       "    }\n",
       "\n",
       "    .dataframe thead th {\n",
       "        text-align: right;\n",
       "    }\n",
       "</style>\n",
       "<table border=\"1\" class=\"dataframe\">\n",
       "  <thead>\n",
       "    <tr style=\"text-align: right;\">\n",
       "      <th></th>\n",
       "      <th></th>\n",
       "      <th>Patient</th>\n",
       "      <th>Weeks</th>\n",
       "      <th>FVC</th>\n",
       "      <th>Percent</th>\n",
       "      <th>Age</th>\n",
       "      <th>Sex</th>\n",
       "      <th>SmokingStatus</th>\n",
       "    </tr>\n",
       "    <tr>\n",
       "      <th>Patient</th>\n",
       "      <th>Weeks</th>\n",
       "      <th></th>\n",
       "      <th></th>\n",
       "      <th></th>\n",
       "      <th></th>\n",
       "      <th></th>\n",
       "      <th></th>\n",
       "      <th></th>\n",
       "    </tr>\n",
       "  </thead>\n",
       "  <tbody>\n",
       "    <tr>\n",
       "      <th rowspan=\"9\" valign=\"top\">ID00007637202177411956430</th>\n",
       "      <th>-4</th>\n",
       "      <td>ID00007637202177411956430</td>\n",
       "      <td>-4</td>\n",
       "      <td>2315</td>\n",
       "      <td>58.253649</td>\n",
       "      <td>79</td>\n",
       "      <td>Male</td>\n",
       "      <td>Ex-smoker</td>\n",
       "    </tr>\n",
       "    <tr>\n",
       "      <th>5</th>\n",
       "      <td>ID00007637202177411956430</td>\n",
       "      <td>5</td>\n",
       "      <td>2214</td>\n",
       "      <td>55.712129</td>\n",
       "      <td>79</td>\n",
       "      <td>Male</td>\n",
       "      <td>Ex-smoker</td>\n",
       "    </tr>\n",
       "    <tr>\n",
       "      <th>7</th>\n",
       "      <td>ID00007637202177411956430</td>\n",
       "      <td>7</td>\n",
       "      <td>2061</td>\n",
       "      <td>51.862104</td>\n",
       "      <td>79</td>\n",
       "      <td>Male</td>\n",
       "      <td>Ex-smoker</td>\n",
       "    </tr>\n",
       "    <tr>\n",
       "      <th>9</th>\n",
       "      <td>ID00007637202177411956430</td>\n",
       "      <td>9</td>\n",
       "      <td>2144</td>\n",
       "      <td>53.950679</td>\n",
       "      <td>79</td>\n",
       "      <td>Male</td>\n",
       "      <td>Ex-smoker</td>\n",
       "    </tr>\n",
       "    <tr>\n",
       "      <th>11</th>\n",
       "      <td>ID00007637202177411956430</td>\n",
       "      <td>11</td>\n",
       "      <td>2069</td>\n",
       "      <td>52.063412</td>\n",
       "      <td>79</td>\n",
       "      <td>Male</td>\n",
       "      <td>Ex-smoker</td>\n",
       "    </tr>\n",
       "    <tr>\n",
       "      <th>17</th>\n",
       "      <td>ID00007637202177411956430</td>\n",
       "      <td>17</td>\n",
       "      <td>2101</td>\n",
       "      <td>52.868646</td>\n",
       "      <td>79</td>\n",
       "      <td>Male</td>\n",
       "      <td>Ex-smoker</td>\n",
       "    </tr>\n",
       "    <tr>\n",
       "      <th>29</th>\n",
       "      <td>ID00007637202177411956430</td>\n",
       "      <td>29</td>\n",
       "      <td>2000</td>\n",
       "      <td>50.327126</td>\n",
       "      <td>79</td>\n",
       "      <td>Male</td>\n",
       "      <td>Ex-smoker</td>\n",
       "    </tr>\n",
       "    <tr>\n",
       "      <th>41</th>\n",
       "      <td>ID00007637202177411956430</td>\n",
       "      <td>41</td>\n",
       "      <td>2064</td>\n",
       "      <td>51.937594</td>\n",
       "      <td>79</td>\n",
       "      <td>Male</td>\n",
       "      <td>Ex-smoker</td>\n",
       "    </tr>\n",
       "    <tr>\n",
       "      <th>57</th>\n",
       "      <td>ID00007637202177411956430</td>\n",
       "      <td>57</td>\n",
       "      <td>2057</td>\n",
       "      <td>51.761449</td>\n",
       "      <td>79</td>\n",
       "      <td>Male</td>\n",
       "      <td>Ex-smoker</td>\n",
       "    </tr>\n",
       "    <tr>\n",
       "      <th rowspan=\"9\" valign=\"top\">ID00009637202177434476278</th>\n",
       "      <th>8</th>\n",
       "      <td>ID00009637202177434476278</td>\n",
       "      <td>8</td>\n",
       "      <td>3660</td>\n",
       "      <td>85.282878</td>\n",
       "      <td>69</td>\n",
       "      <td>Male</td>\n",
       "      <td>Ex-smoker</td>\n",
       "    </tr>\n",
       "    <tr>\n",
       "      <th>9</th>\n",
       "      <td>ID00009637202177434476278</td>\n",
       "      <td>9</td>\n",
       "      <td>3610</td>\n",
       "      <td>84.117812</td>\n",
       "      <td>69</td>\n",
       "      <td>Male</td>\n",
       "      <td>Ex-smoker</td>\n",
       "    </tr>\n",
       "    <tr>\n",
       "      <th>11</th>\n",
       "      <td>ID00009637202177434476278</td>\n",
       "      <td>11</td>\n",
       "      <td>3895</td>\n",
       "      <td>90.758691</td>\n",
       "      <td>69</td>\n",
       "      <td>Male</td>\n",
       "      <td>Ex-smoker</td>\n",
       "    </tr>\n",
       "    <tr>\n",
       "      <th>13</th>\n",
       "      <td>ID00009637202177434476278</td>\n",
       "      <td>13</td>\n",
       "      <td>3759</td>\n",
       "      <td>87.589710</td>\n",
       "      <td>69</td>\n",
       "      <td>Male</td>\n",
       "      <td>Ex-smoker</td>\n",
       "    </tr>\n",
       "    <tr>\n",
       "      <th>15</th>\n",
       "      <td>ID00009637202177434476278</td>\n",
       "      <td>15</td>\n",
       "      <td>3639</td>\n",
       "      <td>84.793550</td>\n",
       "      <td>69</td>\n",
       "      <td>Male</td>\n",
       "      <td>Ex-smoker</td>\n",
       "    </tr>\n",
       "    <tr>\n",
       "      <th>22</th>\n",
       "      <td>ID00009637202177434476278</td>\n",
       "      <td>22</td>\n",
       "      <td>3578</td>\n",
       "      <td>83.372169</td>\n",
       "      <td>69</td>\n",
       "      <td>Male</td>\n",
       "      <td>Ex-smoker</td>\n",
       "    </tr>\n",
       "    <tr>\n",
       "      <th>33</th>\n",
       "      <td>ID00009637202177434476278</td>\n",
       "      <td>33</td>\n",
       "      <td>3625</td>\n",
       "      <td>84.467332</td>\n",
       "      <td>69</td>\n",
       "      <td>Male</td>\n",
       "      <td>Ex-smoker</td>\n",
       "    </tr>\n",
       "    <tr>\n",
       "      <th>45</th>\n",
       "      <td>ID00009637202177434476278</td>\n",
       "      <td>45</td>\n",
       "      <td>3390</td>\n",
       "      <td>78.991518</td>\n",
       "      <td>69</td>\n",
       "      <td>Male</td>\n",
       "      <td>Ex-smoker</td>\n",
       "    </tr>\n",
       "    <tr>\n",
       "      <th>60</th>\n",
       "      <td>ID00009637202177434476278</td>\n",
       "      <td>60</td>\n",
       "      <td>3214</td>\n",
       "      <td>74.890484</td>\n",
       "      <td>69</td>\n",
       "      <td>Male</td>\n",
       "      <td>Ex-smoker</td>\n",
       "    </tr>\n",
       "    <tr>\n",
       "      <th rowspan=\"2\" valign=\"top\">ID00010637202177584971671</th>\n",
       "      <th>0</th>\n",
       "      <td>ID00010637202177584971671</td>\n",
       "      <td>0</td>\n",
       "      <td>3523</td>\n",
       "      <td>94.724672</td>\n",
       "      <td>60</td>\n",
       "      <td>Male</td>\n",
       "      <td>Ex-smoker</td>\n",
       "    </tr>\n",
       "    <tr>\n",
       "      <th>1</th>\n",
       "      <td>ID00010637202177584971671</td>\n",
       "      <td>1</td>\n",
       "      <td>3373</td>\n",
       "      <td>90.691547</td>\n",
       "      <td>60</td>\n",
       "      <td>Male</td>\n",
       "      <td>Ex-smoker</td>\n",
       "    </tr>\n",
       "  </tbody>\n",
       "</table>\n",
       "</div>"
      ],
      "text/plain": [
       "                                                   Patient  Weeks   FVC  \\\n",
       "Patient                   Weeks                                           \n",
       "ID00007637202177411956430 -4     ID00007637202177411956430     -4  2315   \n",
       "                           5     ID00007637202177411956430      5  2214   \n",
       "                           7     ID00007637202177411956430      7  2061   \n",
       "                           9     ID00007637202177411956430      9  2144   \n",
       "                           11    ID00007637202177411956430     11  2069   \n",
       "                           17    ID00007637202177411956430     17  2101   \n",
       "                           29    ID00007637202177411956430     29  2000   \n",
       "                           41    ID00007637202177411956430     41  2064   \n",
       "                           57    ID00007637202177411956430     57  2057   \n",
       "ID00009637202177434476278  8     ID00009637202177434476278      8  3660   \n",
       "                           9     ID00009637202177434476278      9  3610   \n",
       "                           11    ID00009637202177434476278     11  3895   \n",
       "                           13    ID00009637202177434476278     13  3759   \n",
       "                           15    ID00009637202177434476278     15  3639   \n",
       "                           22    ID00009637202177434476278     22  3578   \n",
       "                           33    ID00009637202177434476278     33  3625   \n",
       "                           45    ID00009637202177434476278     45  3390   \n",
       "                           60    ID00009637202177434476278     60  3214   \n",
       "ID00010637202177584971671  0     ID00010637202177584971671      0  3523   \n",
       "                           1     ID00010637202177584971671      1  3373   \n",
       "\n",
       "                                   Percent  Age   Sex SmokingStatus  \n",
       "Patient                   Weeks                                      \n",
       "ID00007637202177411956430 -4     58.253649   79  Male     Ex-smoker  \n",
       "                           5     55.712129   79  Male     Ex-smoker  \n",
       "                           7     51.862104   79  Male     Ex-smoker  \n",
       "                           9     53.950679   79  Male     Ex-smoker  \n",
       "                           11    52.063412   79  Male     Ex-smoker  \n",
       "                           17    52.868646   79  Male     Ex-smoker  \n",
       "                           29    50.327126   79  Male     Ex-smoker  \n",
       "                           41    51.937594   79  Male     Ex-smoker  \n",
       "                           57    51.761449   79  Male     Ex-smoker  \n",
       "ID00009637202177434476278  8     85.282878   69  Male     Ex-smoker  \n",
       "                           9     84.117812   69  Male     Ex-smoker  \n",
       "                           11    90.758691   69  Male     Ex-smoker  \n",
       "                           13    87.589710   69  Male     Ex-smoker  \n",
       "                           15    84.793550   69  Male     Ex-smoker  \n",
       "                           22    83.372169   69  Male     Ex-smoker  \n",
       "                           33    84.467332   69  Male     Ex-smoker  \n",
       "                           45    78.991518   69  Male     Ex-smoker  \n",
       "                           60    74.890484   69  Male     Ex-smoker  \n",
       "ID00010637202177584971671  0     94.724672   60  Male     Ex-smoker  \n",
       "                           1     90.691547   60  Male     Ex-smoker  "
      ]
     },
     "execution_count": 6,
     "metadata": {},
     "output_type": "execute_result"
    }
   ],
   "source": [
    "train.head(20)"
   ]
  },
  {
   "cell_type": "code",
   "execution_count": 7,
   "metadata": {},
   "outputs": [
    {
     "name": "stdout",
     "output_type": "stream",
     "text": [
      "len(pids)=176\n"
     ]
    }
   ],
   "source": [
    "pids = train['Patient'].unique()\n",
    "print(f'len(pids)={len(pids)}')"
   ]
  },
  {
   "cell_type": "code",
   "execution_count": 8,
   "metadata": {},
   "outputs": [
    {
     "data": {
      "text/plain": [
       "<AxesSubplot:>"
      ]
     },
     "execution_count": 8,
     "metadata": {},
     "output_type": "execute_result"
    },
    {
     "data": {
      "image/png": "[encoded data removed]",
      "text/plain": [
       "<Figure size 432x288 with 1 Axes>"
      ]
     },
     "metadata": {},
     "output_type": "display_data"
    }
   ],
   "source": [
    "train['Weeks'].hist(bins=100)"
   ]
  },
  {
   "cell_type": "code",
   "execution_count": 9,
   "metadata": {},
   "outputs": [
    {
     "data": {
      "text/plain": [
       "count    1549.000000\n",
       "mean       31.861846\n",
       "std        23.247550\n",
       "min        -5.000000\n",
       "25%        12.000000\n",
       "50%        28.000000\n",
       "75%        47.000000\n",
       "max       133.000000\n",
       "Name: Weeks, dtype: float64"
      ]
     },
     "execution_count": 9,
     "metadata": {},
     "output_type": "execute_result"
    }
   ],
   "source": [
    "train['Weeks'].describe()"
   ]
  },
  {
   "cell_type": "code",
   "execution_count": 10,
   "metadata": {},
   "outputs": [
    {
     "data": {
      "text/plain": [
       "<AxesSubplot:>"
      ]
     },
     "execution_count": 10,
     "metadata": {},
     "output_type": "execute_result"
    },
    {
     "data": {
      "image/png": "[encoded data removed]",
      "text/plain": [
       "<Figure size 432x288 with 1 Axes>"
      ]
     },
     "metadata": {},
     "output_type": "display_data"
    }
   ],
   "source": [
    "train['FVC'].hist(bins=100)"
   ]
  },
  {
   "cell_type": "code",
   "execution_count": 11,
   "metadata": {},
   "outputs": [
    {
     "data": {
      "text/plain": [
       "count    1549.000000\n",
       "mean     2690.479019\n",
       "std       832.770959\n",
       "min       827.000000\n",
       "25%      2109.000000\n",
       "50%      2641.000000\n",
       "75%      3171.000000\n",
       "max      6399.000000\n",
       "Name: FVC, dtype: float64"
      ]
     },
     "execution_count": 11,
     "metadata": {},
     "output_type": "execute_result"
    }
   ],
   "source": [
    "train['FVC'].describe()"
   ]
  },
  {
   "cell_type": "markdown",
   "metadata": {},
   "source": [
    "# Get last three FVC readings per patient"
   ]
  },
  {
   "cell_type": "code",
   "execution_count": null,
   "metadata": {},
   "outputs": [],
   "source": [
    "rows = []\n",
    "row = {}\n",
    "prev = None\n",
    "last_weeks: Deque[int] = deque()\n",
    "last_fvc: Deque[float] = deque()\n",
    "for t in train.itertuples():\n",
    "    if prev is not None and prev != t.Patient:  # new patient\n",
    "        if len(last_fvc) < 3:\n",
    "            pass\n",
    "        row['fvc_last_1'] = last_fvc[2]\n",
    "        row['fvc_last_2'] = last_fvc[1]\n",
    "        row['fvc_last_3'] = last_fvc[0]\n",
    "        row['week_last_1'] = last_weeks[2]\n",
    "        row['week_last_2'] = last_weeks[1]\n",
    "        row['week_last_3'] = last_weeks[0]\n",
    "        rows.append(row)\n",
    "        row.clear()\n",
    "        last_weeks.clear()\n",
    "        last_fvc.clear()\n",
    "        row['pid'] = t.Patient\n",
    "        row['age'] = t.Age\n",
    "        row['sex'] = t.Sex\n",
    "        row['smoking'] = t.SmokingStatus\n",
    "        row['week_1'] = t.Weeks\n",
    "        row['fvc_1'] = t.FVC\n",
    "        row['percent_1'] = t.Percent\n",
    "    last_weeks.append(t.Weeks)\n",
    "    if len(last_weeks) == 4:\n",
    "        last_weeks.popleft()\n",
    "    last_fvc.append(t.FVC)\n",
    "    if len(last_fvc) == 4:\n",
    "        last_fvc.popleft()\n",
    "    \n",
    "    \n",
    "train = pd.DataFrame.from_records(rows)\n",
    "train.info()"
   ]
  }
 ],
 "metadata": {
  "kernelspec": {
   "display_name": "Python 3",
   "language": "python",
   "name": "python3"
  },
  "language_info": {
   "codemirror_mode": {
    "name": "ipython",
    "version": 3
   },
   "file_extension": ".py",
   "mimetype": "text/x-python",
   "name": "python",
   "nbconvert_exporter": "python",
   "pygments_lexer": "ipython3",
   "version": "3.7.5"
  }
 },
 "nbformat": 4,
 "nbformat_minor": 4
}
