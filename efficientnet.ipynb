{
 "cells": [
  {
   "cell_type": "code",
   "execution_count": 61,
   "metadata": {},
   "outputs": [
    {
     "name": "stdout",
     "output_type": "stream",
     "text": [
      "Num GPUs Available:  0\n"
     ]
    }
   ],
   "source": [
    "import numpy as np\n",
    "import pandas as pd\n",
    "import sys\n",
    "import os\n",
    "from tqdm import tqdm\n",
    "import sklearn\n",
    "import tensorflow as tf\n",
    "from tensorflow import keras\n",
    "import matplotlib.pyplot as plt\n",
    "import seaborn as sns\n",
    "sns.set()\n",
    "print(\"Num GPUs Available: \", len(tf.config.experimental.list_physical_devices('GPU')))"
   ]
  },
  {
   "cell_type": "code",
   "execution_count": 62,
   "metadata": {},
   "outputs": [
    {
     "name": "stdout",
     "output_type": "stream",
     "text": [
      "Processing ./lib/kaggle-rig-0.2.0.tar.gz\n",
      "Requirement already satisfied: pandas~=1.1.1 in ./venv/lib/python3.7/site-packages (from kaggle-rig==0.2.0) (1.1.2)\n",
      "Requirement already satisfied: scikit-learn~=0.23.2 in ./venv/lib/python3.7/site-packages (from kaggle-rig==0.2.0) (0.23.2)\n",
      "Requirement already satisfied: pytz>=2017.2 in ./venv/lib/python3.7/site-packages (from pandas~=1.1.1->kaggle-rig==0.2.0) (2020.1)\n",
      "Requirement already satisfied: numpy>=1.15.4 in ./venv/lib/python3.7/site-packages (from pandas~=1.1.1->kaggle-rig==0.2.0) (1.19.2)\n",
      "Requirement already satisfied: python-dateutil>=2.7.3 in ./venv/lib/python3.7/site-packages (from pandas~=1.1.1->kaggle-rig==0.2.0) (2.8.1)\n",
      "Requirement already satisfied: threadpoolctl>=2.0.0 in ./venv/lib/python3.7/site-packages (from scikit-learn~=0.23.2->kaggle-rig==0.2.0) (2.1.0)\n",
      "Requirement already satisfied: scipy>=0.19.1 in ./venv/lib/python3.7/site-packages (from scikit-learn~=0.23.2->kaggle-rig==0.2.0) (1.4.1)\n",
      "Requirement already satisfied: joblib>=0.11 in ./venv/lib/python3.7/site-packages (from scikit-learn~=0.23.2->kaggle-rig==0.2.0) (0.16.0)\n",
      "Requirement already satisfied: six>=1.5 in ./venv/lib/python3.7/site-packages (from python-dateutil>=2.7.3->pandas~=1.1.1->kaggle-rig==0.2.0) (1.15.0)\n",
      "Building wheels for collected packages: kaggle-rig\n",
      "  Building wheel for kaggle-rig (setup.py) ... \u001b[?25ldone\n",
      "\u001b[?25h  Created wheel for kaggle-rig: filename=kaggle_rig-0.2.0-py3-none-any.whl size=6539 sha256=2f2af3d66fb956b28ec3e387687ffc7a111c15780a8940f6e4b0cdbc2e44c501\n",
      "  Stored in directory: /home/pankun/.cache/pip/wheels/03/99/72/07676e0abd65551d5261aee9360ad1c85fcaca1c409857a40a\n",
      "Successfully built kaggle-rig\n",
      "Installing collected packages: kaggle-rig\n",
      "  Attempting uninstall: kaggle-rig\n",
      "    Found existing installation: kaggle-rig 0.2.0\n",
      "    Uninstalling kaggle-rig-0.2.0:\n",
      "      Successfully uninstalled kaggle-rig-0.2.0\n",
      "Successfully installed kaggle-rig-0.2.0\n"
     ]
    }
   ],
   "source": [
    "!pip install lib/kaggle-rig-0.2.0.tar.gz\n",
    "import krig\n",
    "krig.seed_everything()"
   ]
  },
  {
   "cell_type": "code",
   "execution_count": 63,
   "metadata": {},
   "outputs": [],
   "source": [
    "# Characters such as empty strings '' or numpy.inf are considered NA values\n",
    "pd.set_option('use_inf_as_na', True)\n",
    "pd.set_option('display.max_columns', 999)\n",
    "pd.set_option('display.max_rows', 999)\n",
    "sns.set(style=\"whitegrid\")"
   ]
  },
  {
   "cell_type": "code",
   "execution_count": 64,
   "metadata": {},
   "outputs": [],
   "source": [
    "EPOCHS = 2\n",
    "LEARNING_RATE = 0.001\n",
    "DROPOUT = 0.01\n",
    "FOLDS = 10\n",
    "BATCH_SIZE = 32\n",
    "INPUT_SHAPE = (224, 224, 3)\n",
    "DATA = 'input/processed'\n",
    "TARGET = ['fvc_last_3', 'fvc_last_2', 'fvc_last_1']"
   ]
  },
  {
   "cell_type": "code",
   "execution_count": 65,
   "metadata": {},
   "outputs": [
    {
     "name": "stdout",
     "output_type": "stream",
     "text": [
      "<class 'pandas.core.frame.DataFrame'>\n",
      "RangeIndex: 32684 entries, 0 to 32683\n",
      "Data columns (total 14 columns):\n",
      " #   Column       Non-Null Count  Dtype  \n",
      "---  ------       --------------  -----  \n",
      " 0   pid          32684 non-null  object \n",
      " 1   age          32684 non-null  uint8  \n",
      " 2   sex          32684 non-null  object \n",
      " 3   smoking      32684 non-null  object \n",
      " 4   week_1       32684 non-null  int16  \n",
      " 5   fvc_1        32684 non-null  uint16 \n",
      " 6   percent_1    32684 non-null  float32\n",
      " 7   fvc_last_1   32684 non-null  uint16 \n",
      " 8   fvc_last_2   32684 non-null  uint16 \n",
      " 9   fvc_last_3   32684 non-null  uint16 \n",
      " 10  week_last_1  32684 non-null  int16  \n",
      " 11  week_last_2  32684 non-null  int16  \n",
      " 12  week_last_3  32684 non-null  int16  \n",
      " 13  img          32684 non-null  object \n",
      "dtypes: float32(1), int16(4), object(4), uint16(4), uint8(1)\n",
      "memory usage: 1.7+ MB\n"
     ]
    }
   ],
   "source": [
    "data = pd.read_parquet(f'{DATA}/train.parquet')\n",
    "data.info()"
   ]
  },
  {
   "cell_type": "code",
   "execution_count": 66,
   "metadata": {},
   "outputs": [
    {
     "data": {
      "text/html": [
       "<div>\n",
       "<style scoped>\n",
       "    .dataframe tbody tr th:only-of-type {\n",
       "        vertical-align: middle;\n",
       "    }\n",
       "\n",
       "    .dataframe tbody tr th {\n",
       "        vertical-align: top;\n",
       "    }\n",
       "\n",
       "    .dataframe thead th {\n",
       "        text-align: right;\n",
       "    }\n",
       "</style>\n",
       "<table border=\"1\" class=\"dataframe\">\n",
       "  <thead>\n",
       "    <tr style=\"text-align: right;\">\n",
       "      <th></th>\n",
       "      <th>pid</th>\n",
       "      <th>age</th>\n",
       "      <th>sex</th>\n",
       "      <th>smoking</th>\n",
       "      <th>week_1</th>\n",
       "      <th>fvc_1</th>\n",
       "      <th>percent_1</th>\n",
       "      <th>fvc_last_1</th>\n",
       "      <th>fvc_last_2</th>\n",
       "      <th>fvc_last_3</th>\n",
       "      <th>week_last_1</th>\n",
       "      <th>week_last_2</th>\n",
       "      <th>week_last_3</th>\n",
       "      <th>img</th>\n",
       "    </tr>\n",
       "  </thead>\n",
       "  <tbody>\n",
       "    <tr>\n",
       "      <th>0</th>\n",
       "      <td>ID00007637202177411956430</td>\n",
       "      <td>79</td>\n",
       "      <td>Male</td>\n",
       "      <td>Ex-smoker</td>\n",
       "      <td>-4</td>\n",
       "      <td>2315</td>\n",
       "      <td>58.253647</td>\n",
       "      <td>2057</td>\n",
       "      <td>2064</td>\n",
       "      <td>2000</td>\n",
       "      <td>57</td>\n",
       "      <td>41</td>\n",
       "      <td>29</td>\n",
       "      <td>ID00007637202177411956430/0.png</td>\n",
       "    </tr>\n",
       "    <tr>\n",
       "      <th>1</th>\n",
       "      <td>ID00007637202177411956430</td>\n",
       "      <td>79</td>\n",
       "      <td>Male</td>\n",
       "      <td>Ex-smoker</td>\n",
       "      <td>-4</td>\n",
       "      <td>2315</td>\n",
       "      <td>58.253647</td>\n",
       "      <td>2057</td>\n",
       "      <td>2064</td>\n",
       "      <td>2000</td>\n",
       "      <td>57</td>\n",
       "      <td>41</td>\n",
       "      <td>29</td>\n",
       "      <td>ID00007637202177411956430/1.png</td>\n",
       "    </tr>\n",
       "    <tr>\n",
       "      <th>2</th>\n",
       "      <td>ID00007637202177411956430</td>\n",
       "      <td>79</td>\n",
       "      <td>Male</td>\n",
       "      <td>Ex-smoker</td>\n",
       "      <td>-4</td>\n",
       "      <td>2315</td>\n",
       "      <td>58.253647</td>\n",
       "      <td>2057</td>\n",
       "      <td>2064</td>\n",
       "      <td>2000</td>\n",
       "      <td>57</td>\n",
       "      <td>41</td>\n",
       "      <td>29</td>\n",
       "      <td>ID00007637202177411956430/10.png</td>\n",
       "    </tr>\n",
       "    <tr>\n",
       "      <th>3</th>\n",
       "      <td>ID00007637202177411956430</td>\n",
       "      <td>79</td>\n",
       "      <td>Male</td>\n",
       "      <td>Ex-smoker</td>\n",
       "      <td>-4</td>\n",
       "      <td>2315</td>\n",
       "      <td>58.253647</td>\n",
       "      <td>2057</td>\n",
       "      <td>2064</td>\n",
       "      <td>2000</td>\n",
       "      <td>57</td>\n",
       "      <td>41</td>\n",
       "      <td>29</td>\n",
       "      <td>ID00007637202177411956430/11.png</td>\n",
       "    </tr>\n",
       "    <tr>\n",
       "      <th>4</th>\n",
       "      <td>ID00007637202177411956430</td>\n",
       "      <td>79</td>\n",
       "      <td>Male</td>\n",
       "      <td>Ex-smoker</td>\n",
       "      <td>-4</td>\n",
       "      <td>2315</td>\n",
       "      <td>58.253647</td>\n",
       "      <td>2057</td>\n",
       "      <td>2064</td>\n",
       "      <td>2000</td>\n",
       "      <td>57</td>\n",
       "      <td>41</td>\n",
       "      <td>29</td>\n",
       "      <td>ID00007637202177411956430/12.png</td>\n",
       "    </tr>\n",
       "  </tbody>\n",
       "</table>\n",
       "</div>"
      ],
      "text/plain": [
       "                         pid  age   sex    smoking  week_1  fvc_1  percent_1  \\\n",
       "0  ID00007637202177411956430   79  Male  Ex-smoker      -4   2315  58.253647   \n",
       "1  ID00007637202177411956430   79  Male  Ex-smoker      -4   2315  58.253647   \n",
       "2  ID00007637202177411956430   79  Male  Ex-smoker      -4   2315  58.253647   \n",
       "3  ID00007637202177411956430   79  Male  Ex-smoker      -4   2315  58.253647   \n",
       "4  ID00007637202177411956430   79  Male  Ex-smoker      -4   2315  58.253647   \n",
       "\n",
       "   fvc_last_1  fvc_last_2  fvc_last_3  week_last_1  week_last_2  week_last_3  \\\n",
       "0        2057        2064        2000           57           41           29   \n",
       "1        2057        2064        2000           57           41           29   \n",
       "2        2057        2064        2000           57           41           29   \n",
       "3        2057        2064        2000           57           41           29   \n",
       "4        2057        2064        2000           57           41           29   \n",
       "\n",
       "                                img  \n",
       "0   ID00007637202177411956430/0.png  \n",
       "1   ID00007637202177411956430/1.png  \n",
       "2  ID00007637202177411956430/10.png  \n",
       "3  ID00007637202177411956430/11.png  \n",
       "4  ID00007637202177411956430/12.png  "
      ]
     },
     "execution_count": 66,
     "metadata": {},
     "output_type": "execute_result"
    }
   ],
   "source": [
    "data.head()"
   ]
  },
  {
   "cell_type": "code",
   "execution_count": 67,
   "metadata": {},
   "outputs": [
    {
     "name": "stdout",
     "output_type": "stream",
     "text": [
      "len(data)=32684, len(train)=29410, len(val)=3274\n"
     ]
    }
   ],
   "source": [
    "splitter = sklearn.model_selection.GroupKFold(n_splits=FOLDS)\n",
    "x = data['img']\n",
    "y = data[TARGET]\n",
    "groups = data['pid']\n",
    "train = val = None\n",
    "i = 0\n",
    "for train_indices, test_indices in splitter.split(x, y, groups):\n",
    "    if i != 0:\n",
    "        break\n",
    "    train = data.iloc[train_indices]\n",
    "    val = data.iloc[test_indices]\n",
    "    i += 1\n",
    "\n",
    "\n",
    "print(f'len(data)={len(data)}, len(train)={len(train)}, len(val)={len(val)}')"
   ]
  },
  {
   "cell_type": "code",
   "execution_count": 68,
   "metadata": {},
   "outputs": [
    {
     "name": "stdout",
     "output_type": "stream",
     "text": [
      "Model: \"sequential_4\"\n",
      "_________________________________________________________________\n",
      "Layer (type)                 Output Shape              Param #   \n",
      "=================================================================\n",
      "efficientnetb0 (Functional)  (None, 1280)              4049571   \n",
      "_________________________________________________________________\n",
      "batch_normalization_4 (Batch (None, 1280)              5120      \n",
      "_________________________________________________________________\n",
      "dense_4 (Dense)              (None, 1280)              1639680   \n",
      "_________________________________________________________________\n",
      "dropout_4 (Dropout)          (None, 1280)              0         \n",
      "_________________________________________________________________\n",
      "output (Dense)               (None, 3)                 3843      \n",
      "=================================================================\n",
      "Total params: 5,698,214\n",
      "Trainable params: 1,646,083\n",
      "Non-trainable params: 4,052,131\n",
      "_________________________________________________________________\n"
     ]
    }
   ],
   "source": [
    "# Transfer learning from underlying pretrained model (freeze weights!)\n",
    "# do not include output layer from pretrained model\n",
    "pretrained = keras.applications.EfficientNetB0(\n",
    "    include_top=False, input_shape=INPUT_SHAPE, pooling='max', #weights=None\n",
    ")\n",
    "pretrained.trainable = False\n",
    "\n",
    "kernel_initializer = keras.initializers.he_normal()\n",
    "kernel_regularizer = keras.regularizers.l2(0.01) \n",
    "\n",
    "b0 = 1280\n",
    "b2 = 1408\n",
    "b3 = 1536\n",
    "b5 = 2048\n",
    "b6 = 2304\n",
    "b7 = 2560\n",
    "\n",
    "model = keras.models.Sequential()\n",
    "model.add(pretrained)\n",
    "model.add(keras.layers.BatchNormalization())\n",
    "model.add(keras.layers.Dense(\n",
    "    b0,\n",
    "    activation=\"relu\",\n",
    "    kernel_initializer=kernel_initializer,\n",
    "    kernel_regularizer=kernel_regularizer\n",
    "))\n",
    "model.add(keras.layers.Dropout(DROPOUT))\n",
    "model.add(keras.layers.Dense(len(TARGET), name='output'))\n",
    "model.summary()"
   ]
  },
  {
   "cell_type": "code",
   "execution_count": 69,
   "metadata": {},
   "outputs": [],
   "source": [
    "callbacks = [\n",
    "    keras.callbacks.ReduceLROnPlateau(monitor='val_loss', patience=2, verbose=1, factor=0.7),\n",
    "    keras.callbacks.EarlyStopping(monitor='val_loss', patience=2),\n",
    "    keras.callbacks.ModelCheckpoint(filepath='best_model.h5', monitor='val_loss', save_best_only=True)\n",
    "]\n",
    "optimizer = keras.optimizers.Adam(learning_rate=LEARNING_RATE)\n",
    "loss = keras.losses.MeanSquaredLogarithmicError()\n",
    "rmse = keras.metrics.RootMeanSquaredError()\n",
    "model.compile(loss=loss, optimizer=optimizer, metrics=[rmse])"
   ]
  },
  {
   "cell_type": "code",
   "execution_count": 70,
   "metadata": {},
   "outputs": [
    {
     "name": "stdout",
     "output_type": "stream",
     "text": [
      "Found 29410 validated image filenames.\n",
      "Found 3274 validated image filenames.\n"
     ]
    }
   ],
   "source": [
    "target_size = (INPUT_SHAPE[0], INPUT_SHAPE[1])\n",
    "\n",
    "idg = keras.preprocessing.image.ImageDataGenerator()\n",
    "\n",
    "train_generator = idg.flow_from_dataframe(\n",
    "    dataframe = train,\n",
    "    x_col='img',\n",
    "    y_col=TARGET,\n",
    "    directory=DATA,\n",
    "    target_size=target_size,\n",
    "    color_mode='rgb',\n",
    "    batch_size=BATCH_SIZE,\n",
    "    shuffle=True,\n",
    "    class_mode='multi_output'\n",
    ")\n",
    "\n",
    "validation_generator = idg.flow_from_dataframe(\n",
    "    dataframe = val,\n",
    "    x_col='img',\n",
    "    y_col=TARGET,\n",
    "    directory=DATA,\n",
    "    target_size=target_size,\n",
    "    color_mode='rgb',\n",
    "    shuffle=False,\n",
    "    batch_size=BATCH_SIZE,\n",
    "    class_mode='multi_output'\n",
    ")"
   ]
  },
  {
   "cell_type": "code",
   "execution_count": null,
   "metadata": {},
   "outputs": [
    {
     "name": "stdout",
     "output_type": "stream",
     "text": [
      "Epoch 1/2\n",
      " 10/920 [..............................] - ETA: 22:27 - loss: 65.0158 - root_mean_squared_error: 2888.8076"
     ]
    }
   ],
   "source": [
    "history = model.fit(train_generator,\n",
    "          epochs=EPOCHS, \n",
    "          validation_data=validation_generator,#class_weight=class_weights_dict,\n",
    "          callbacks=callbacks)"
   ]
  }
 ],
 "metadata": {
  "kernelspec": {
   "display_name": "Python 3",
   "language": "python",
   "name": "python3"
  },
  "language_info": {
   "codemirror_mode": {
    "name": "ipython",
    "version": 3
   },
   "file_extension": ".py",
   "mimetype": "text/x-python",
   "name": "python",
   "nbconvert_exporter": "python",
   "pygments_lexer": "ipython3",
   "version": "3.7.5"
  }
 },
 "nbformat": 4,
 "nbformat_minor": 4
}
